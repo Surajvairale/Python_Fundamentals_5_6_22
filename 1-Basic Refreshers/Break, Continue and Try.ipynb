{
 "cells": [
  {
   "cell_type": "markdown",
   "id": "1497fe0d",
   "metadata": {},
   "source": [
    "## Loop Break and Continue insides a TRY... Except...Finally"
   ]
  },
  {
   "cell_type": "code",
   "execution_count": 1,
   "id": "93cc534f",
   "metadata": {},
   "outputs": [
    {
     "name": "stdout",
     "output_type": "stream",
     "text": [
      "this always executes\n"
     ]
    }
   ],
   "source": [
    "a = 10\n",
    "b = 1 \n",
    "try:\n",
    "    a/b\n",
    "except zeroDivisionError:\n",
    "    print('division by 0')\n",
    "finally:\n",
    "    print('this always executes')"
   ]
  },
  {
   "cell_type": "code",
   "execution_count": 5,
   "id": "e946766f",
   "metadata": {},
   "outputs": [
    {
     "name": "stdout",
     "output_type": "stream",
     "text": [
      "this always executes\n"
     ]
    }
   ],
   "source": [
    "a = 10\n",
    "b = 2\n",
    "try:\n",
    "    a / b\n",
    "except zeroDivisionError:\n",
    "    print('division by 0')\n",
    "finally:\n",
    "    print('this always executes')\n",
    "    "
   ]
  },
  {
   "cell_type": "code",
   "execution_count": 7,
   "id": "429c6b46",
   "metadata": {},
   "outputs": [
    {
     "name": "stdout",
     "output_type": "stream",
     "text": [
      "----------------\n",
      "1 , 1 - always executes\n",
      "1 , 1 - main loop\n",
      "----------------\n",
      "2 , 0 - always executes\n",
      "2 , 0 - always executes\n",
      "----------------\n",
      "3 , -1 - always executes\n",
      "3 , -1 - main loop\n"
     ]
    }
   ],
   "source": [
    "a = 0\n",
    "b = 2\n",
    "\n",
    "while a < 3:\n",
    "    print('----------------')\n",
    "    a += 1\n",
    "    b -= 1\n",
    "    try:\n",
    "        res = a/b\n",
    "    except ZeroDivisionError:\n",
    "        print('{0} , {1} - always executes'.format(a , b))\n",
    "        res = 0\n",
    "        continue\n",
    "    finally:\n",
    "        print('{0} , {1} - always executes'.format(a, b))\n",
    "        \n",
    "    print('{0} , {1} - main loop'.format(a , b))"
   ]
  },
  {
   "cell_type": "code",
   "execution_count": 4,
   "id": "288a2089",
   "metadata": {},
   "outputs": [
    {
     "name": "stdout",
     "output_type": "stream",
     "text": [
      "--------------\n",
      "1 , 9 - always excutes\n",
      "1 , 9 - main loop \n",
      "--------------\n",
      "2 , 8 - always excutes\n",
      "2 , 8 - main loop \n",
      "--------------\n",
      "3 , 7 - always excutes\n",
      "3 , 7 - main loop \n",
      "\n",
      "\n",
      "no errors were encountered!\n"
     ]
    }
   ],
   "source": [
    "a = 0\n",
    "b = 10\n",
    "\n",
    "while a < 3:\n",
    "    print('--------------')\n",
    "    a += 1\n",
    "    b -= 1\n",
    "    try:\n",
    "        res = a / b\n",
    "    except ZeroDivisionError:\n",
    "        print('{0} , {1}  - divsion by 0'.format(a, b))\n",
    "        res = 0\n",
    "        break\n",
    "    finally:\n",
    "        print('{0} , {1} - always excutes'.format(a, b))\n",
    "        \n",
    "    print('{0} , {1} - main loop '.format(a, b))\n",
    "else:\n",
    "    print('\\n\\nno errors were encountered!')"
   ]
  }
 ],
 "metadata": {
  "kernelspec": {
   "display_name": "Python 3 (ipykernel)",
   "language": "python",
   "name": "python3"
  },
  "language_info": {
   "codemirror_mode": {
    "name": "ipython",
    "version": 3
   },
   "file_extension": ".py",
   "mimetype": "text/x-python",
   "name": "python",
   "nbconvert_exporter": "python",
   "pygments_lexer": "ipython3",
   "version": "3.9.12"
  }
 },
 "nbformat": 4,
 "nbformat_minor": 5
}
