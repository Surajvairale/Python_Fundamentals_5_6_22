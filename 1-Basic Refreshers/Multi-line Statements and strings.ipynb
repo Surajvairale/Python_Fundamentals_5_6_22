{
 "cells": [
  {
   "cell_type": "markdown",
   "id": "a498321d",
   "metadata": {},
   "source": [
    "## Multi-Line Statement and Strings"
   ]
  },
  {
   "cell_type": "code",
   "execution_count": 2,
   "id": "6ce975c0",
   "metadata": {},
   "outputs": [],
   "source": [
    "##Implicit Example\n",
    "a = [1,\n",
    "    2,\n",
    "    3]"
   ]
  },
  {
   "cell_type": "code",
   "execution_count": 4,
   "id": "f11d1e23",
   "metadata": {},
   "outputs": [
    {
     "data": {
      "text/plain": [
       "[1, 2, 3]"
      ]
     },
     "execution_count": 4,
     "metadata": {},
     "output_type": "execute_result"
    }
   ],
   "source": [
    "a # you may also add comment to the end of each physical line."
   ]
  },
  {
   "cell_type": "code",
   "execution_count": null,
   "id": "fab25e7e",
   "metadata": {},
   "outputs": [],
   "source": [
    "a = [1,#first element\n",
    "    2, #second element\n",
    "    3, #third element\n",
    "    ]"
   ]
  },
  {
   "cell_type": "code",
   "execution_count": 5,
   "id": "b046da02",
   "metadata": {},
   "outputs": [
    {
     "data": {
      "text/plain": [
       "[1, 2, 3]"
      ]
     },
     "execution_count": 5,
     "metadata": {},
     "output_type": "execute_result"
    }
   ],
   "source": [
    "a"
   ]
  },
  {
   "cell_type": "code",
   "execution_count": 11,
   "id": "4ccf599c",
   "metadata": {},
   "outputs": [],
   "source": [
    "a = {'key1': 'value1',# comment,\n",
    "    'key2': \n",
    "     'value2'\n",
    "    }"
   ]
  },
  {
   "cell_type": "code",
   "execution_count": 12,
   "id": "96def383",
   "metadata": {},
   "outputs": [
    {
     "data": {
      "text/plain": [
       "{'key1': 'value1', 'key2': 'value2'}"
      ]
     },
     "execution_count": 12,
     "metadata": {},
     "output_type": "execute_result"
    }
   ],
   "source": [
    "a"
   ]
  },
  {
   "cell_type": "code",
   "execution_count": 13,
   "id": "6dff3617",
   "metadata": {},
   "outputs": [],
   "source": [
    "def my_func(a,# some comment\n",
    "           b,c):\n",
    "    print(a,b,c)"
   ]
  },
  {
   "cell_type": "code",
   "execution_count": 14,
   "id": "f62171ec",
   "metadata": {},
   "outputs": [
    {
     "name": "stdout",
     "output_type": "stream",
     "text": [
      "10 20 30\n"
     ]
    }
   ],
   "source": [
    "my_func(10, # comment\n",
    "       20,# comment\n",
    "        30)"
   ]
  },
  {
   "cell_type": "markdown",
   "id": "4d9fd41a",
   "metadata": {},
   "source": [
    "## Explicit Examples"
   ]
  },
  {
   "cell_type": "code",
   "execution_count": 15,
   "id": "b4ff6963",
   "metadata": {},
   "outputs": [
    {
     "name": "stdout",
     "output_type": "stream",
     "text": [
      "yes!!\n"
     ]
    }
   ],
   "source": [
    "## you can use the \\ character to explicilty create multi-line statements\n",
    "\n",
    "a = 10\n",
    "b = 20\n",
    "c = 30\n",
    "if a > 5 \\\n",
    "    and b > 10 \\\n",
    "    and c > 20:\n",
    "    print(\"yes!!\")"
   ]
  },
  {
   "cell_type": "code",
   "execution_count": 16,
   "id": "a5abc152",
   "metadata": {},
   "outputs": [
    {
     "name": "stdout",
     "output_type": "stream",
     "text": [
      "yes!!!\n"
     ]
    }
   ],
   "source": [
    "a = 10\n",
    "b =20\n",
    "c =30\n",
    "if a > 5 \\\n",
    "    and b > 10 \\\n",
    "        and c > 20:\n",
    "    print('yes!!!')"
   ]
  },
  {
   "cell_type": "markdown",
   "id": "3045afcb",
   "metadata": {},
   "source": [
    "## Multi-line Strings"
   ]
  },
  {
   "cell_type": "code",
   "execution_count": 17,
   "id": "f3411602",
   "metadata": {},
   "outputs": [],
   "source": [
    "a = \"\"\"this is \n",
    "a multi-line strings\"\"\""
   ]
  },
  {
   "cell_type": "code",
   "execution_count": 18,
   "id": "2ff66be4",
   "metadata": {},
   "outputs": [
    {
     "name": "stdout",
     "output_type": "stream",
     "text": [
      "this is \n",
      "a multi- line strings\n"
     ]
    }
   ],
   "source": [
    "print(a)"
   ]
  },
  {
   "cell_type": "code",
   "execution_count": 19,
   "id": "6677e0e4",
   "metadata": {},
   "outputs": [],
   "source": [
    "a = \"\"\"some items:\\n\n",
    "    1.item 1\n",
    "    2.item 2\"\"\""
   ]
  },
  {
   "cell_type": "code",
   "execution_count": 20,
   "id": "65f60a42",
   "metadata": {},
   "outputs": [
    {
     "name": "stdout",
     "output_type": "stream",
     "text": [
      "some items:\n",
      "\n",
      "    1.item 1\n",
      "    2.item 2\n"
     ]
    }
   ],
   "source": [
    "print(a)"
   ]
  },
  {
   "cell_type": "code",
   "execution_count": 21,
   "id": "3c9f5338",
   "metadata": {},
   "outputs": [],
   "source": [
    "def my_func():\n",
    "    a = '''a multi-line string\n",
    "    that is actually indented in the second line'''\n",
    "    return a"
   ]
  },
  {
   "cell_type": "code",
   "execution_count": 22,
   "id": "51583f9c",
   "metadata": {},
   "outputs": [
    {
     "name": "stdout",
     "output_type": "stream",
     "text": [
      "a multi-line string\n",
      "    that uis actually indented in the second line\n"
     ]
    }
   ],
   "source": [
    "print(my_func())"
   ]
  },
  {
   "cell_type": "code",
   "execution_count": 26,
   "id": "f403cdcf",
   "metadata": {},
   "outputs": [],
   "source": [
    "def my_func():\n",
    "    a = '''a multi-line string\n",
    "that is not indented in the second line'''\n",
    "    return a"
   ]
  },
  {
   "cell_type": "code",
   "execution_count": 27,
   "id": "edecd9a9",
   "metadata": {},
   "outputs": [
    {
     "name": "stdout",
     "output_type": "stream",
     "text": [
      "a multi-line string\n",
      "that is not indented in the second line\n"
     ]
    }
   ],
   "source": [
    "print(my_func())"
   ]
  },
  {
   "cell_type": "code",
   "execution_count": null,
   "id": "bfa96329",
   "metadata": {},
   "outputs": [],
   "source": []
  }
 ],
 "metadata": {
  "kernelspec": {
   "display_name": "Python 3 (ipykernel)",
   "language": "python",
   "name": "python3"
  },
  "language_info": {
   "codemirror_mode": {
    "name": "ipython",
    "version": 3
   },
   "file_extension": ".py",
   "mimetype": "text/x-python",
   "name": "python",
   "nbconvert_exporter": "python",
   "pygments_lexer": "ipython3",
   "version": "3.9.12"
  }
 },
 "nbformat": 4,
 "nbformat_minor": 5
}
