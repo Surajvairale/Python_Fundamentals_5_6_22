{
 "cells": [
  {
   "cell_type": "markdown",
   "id": "fcad36f7",
   "metadata": {},
   "source": [
    "## Referrence Counting"
   ]
  },
  {
   "cell_type": "code",
   "execution_count": 1,
   "id": "6534f14e",
   "metadata": {},
   "outputs": [],
   "source": [
    "import ctypes\n",
    "\n",
    "def ref_count(address):\n",
    "    return ctypes.c_long.from_address(address).value"
   ]
  },
  {
   "cell_type": "code",
   "execution_count": 2,
   "id": "185efc32",
   "metadata": {},
   "outputs": [
    {
     "data": {
      "text/plain": [
       "1"
      ]
     },
     "execution_count": 2,
     "metadata": {},
     "output_type": "execute_result"
    }
   ],
   "source": [
    "my_var = [1,2,3,4]\n",
    "ref_count(id(my_var))"
   ]
  },
  {
   "cell_type": "code",
   "execution_count": 3,
   "id": "bf5dc390",
   "metadata": {},
   "outputs": [
    {
     "data": {
      "text/plain": [
       "30"
      ]
     },
     "execution_count": 3,
     "metadata": {},
     "output_type": "execute_result"
    }
   ],
   "source": [
    "import sys\n",
    "sys.getrefcount(my_var)"
   ]
  },
  {
   "cell_type": "code",
   "execution_count": 4,
   "id": "7bae347a",
   "metadata": {},
   "outputs": [],
   "source": [
    "other_var = my_var"
   ]
  },
  {
   "cell_type": "code",
   "execution_count": 5,
   "id": "fe826f15",
   "metadata": {},
   "outputs": [
    {
     "name": "stdout",
     "output_type": "stream",
     "text": [
      "0x1d63886f8c0 0x1d63886f8c0\n",
      "49\n"
     ]
    }
   ],
   "source": [
    "print(hex(id(my_var)), hex(id(other_var)))\n",
    "print(ref_count(id(my_var)))"
   ]
  },
  {
   "cell_type": "code",
   "execution_count": 6,
   "id": "be6a1414",
   "metadata": {},
   "outputs": [],
   "source": [
    "other_var = None"
   ]
  },
  {
   "cell_type": "code",
   "execution_count": 7,
   "id": "851914d3",
   "metadata": {},
   "outputs": [
    {
     "name": "stdout",
     "output_type": "stream",
     "text": [
      "49\n"
     ]
    }
   ],
   "source": [
    "print(ref_count(id(my_var)))"
   ]
  },
  {
   "cell_type": "code",
   "execution_count": null,
   "id": "b5663f44",
   "metadata": {},
   "outputs": [],
   "source": []
  }
 ],
 "metadata": {
  "kernelspec": {
   "display_name": "Python 3 (ipykernel)",
   "language": "python",
   "name": "python3"
  },
  "language_info": {
   "codemirror_mode": {
    "name": "ipython",
    "version": 3
   },
   "file_extension": ".py",
   "mimetype": "text/x-python",
   "name": "python",
   "nbconvert_exporter": "python",
   "pygments_lexer": "ipython3",
   "version": "3.9.12"
  }
 },
 "nbformat": 4,
 "nbformat_minor": 5
}
