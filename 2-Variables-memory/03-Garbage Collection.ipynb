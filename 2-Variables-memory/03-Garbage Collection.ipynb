{
 "cells": [
  {
   "cell_type": "markdown",
   "id": "0f3459de",
   "metadata": {},
   "source": [
    "## Garbage Collecting"
   ]
  },
  {
   "cell_type": "code",
   "execution_count": 1,
   "id": "d7a07260",
   "metadata": {},
   "outputs": [],
   "source": [
    "import ctypes\n",
    "import gc\n"
   ]
  },
  {
   "cell_type": "code",
   "execution_count": 2,
   "id": "969a3820",
   "metadata": {},
   "outputs": [],
   "source": [
    "def ref_count(address):\n",
    "    return ctypes.c_long.from_address(address).value\n"
   ]
  },
  {
   "cell_type": "code",
   "execution_count": 3,
   "id": "bd101d12",
   "metadata": {},
   "outputs": [],
   "source": [
    "def object_by_id(object_id):\n",
    "    for obj in gc.get_objects():\n",
    "        if id(obj) == object_id:\n",
    "            return \"Object exists\"\n",
    "        return \"Not found\""
   ]
  },
  {
   "cell_type": "code",
   "execution_count": 4,
   "id": "741b77d4",
   "metadata": {},
   "outputs": [],
   "source": [
    "class A:\n",
    "    def __init__(self):\n",
    "        self.b = B(self)\n",
    "        print('A: self : {0}, a: {1}'.format(hex(id(self)), hex(id(self.b))))"
   ]
  },
  {
   "cell_type": "code",
   "execution_count": 5,
   "id": "d6c55d24",
   "metadata": {},
   "outputs": [],
   "source": [
    "class B:\n",
    "    def __init__(self , a):\n",
    "        self.a = a\n",
    "        print('B: self: {0}, a: {1}'.format(hex(id(self)), hex(id(self.a))))"
   ]
  },
  {
   "cell_type": "code",
   "execution_count": 6,
   "id": "472514a1",
   "metadata": {},
   "outputs": [],
   "source": [
    "gc.disable()"
   ]
  },
  {
   "cell_type": "code",
   "execution_count": 7,
   "id": "d2dbe05c",
   "metadata": {},
   "outputs": [
    {
     "name": "stdout",
     "output_type": "stream",
     "text": [
      "B: self: 0x1589d6dca60, a: 0x1589d6dc6d0\n",
      "A: self : 0x1589d6dc6d0, a: 0x1589d6dca60\n"
     ]
    }
   ],
   "source": [
    "my_var = A()"
   ]
  },
  {
   "cell_type": "code",
   "execution_count": 8,
   "id": "db63a89b",
   "metadata": {},
   "outputs": [
    {
     "name": "stdout",
     "output_type": "stream",
     "text": [
      "0x1589d6dc6d0\n"
     ]
    }
   ],
   "source": [
    "print(hex(id(my_var)))"
   ]
  },
  {
   "cell_type": "code",
   "execution_count": 9,
   "id": "1e4ea00d",
   "metadata": {},
   "outputs": [
    {
     "name": "stdout",
     "output_type": "stream",
     "text": [
      "a: \t0x1589d6dc6d0\n",
      "a.b: \t0x1589d6dca60\n",
      "b.a \t0x1589d6dc6d0\n"
     ]
    }
   ],
   "source": [
    "print('a: \\t{0}'.format(hex(id(my_var))))\n",
    "print('a.b: \\t{0}'.format(hex(id(my_var.b))))\n",
    "print('b.a \\t{0}'.format(hex(id(my_var))))"
   ]
  },
  {
   "cell_type": "code",
   "execution_count": 10,
   "id": "b82b8ddc",
   "metadata": {},
   "outputs": [],
   "source": [
    "a_id = id(my_var)\n",
    "b_id = id(my_var.b)"
   ]
  },
  {
   "cell_type": "code",
   "execution_count": 11,
   "id": "c421df02",
   "metadata": {},
   "outputs": [
    {
     "name": "stdout",
     "output_type": "stream",
     "text": [
      "refco`unt(a) = 2\n",
      "refcount(b) = 1\n",
      "a: Not found\n",
      "b: Not found\n"
     ]
    }
   ],
   "source": [
    "print('refco`unt(a) = {0}'.format(ref_count(a_id)))\n",
    "print('refcount(b) = {0}'.format(ref_count(b_id)))\n",
    "print('a: {0}'.format(object_by_id(a_id)))\n",
    "print('b: {0}'.format(object_by_id(b_id)))"
   ]
  },
  {
   "cell_type": "code",
   "execution_count": null,
   "id": "d31c5f5c",
   "metadata": {},
   "outputs": [],
   "source": []
  },
  {
   "cell_type": "code",
   "execution_count": null,
   "id": "3f4587eb",
   "metadata": {},
   "outputs": [],
   "source": []
  },
  {
   "cell_type": "code",
   "execution_count": null,
   "id": "f6f76059",
   "metadata": {},
   "outputs": [],
   "source": []
  }
 ],
 "metadata": {
  "kernelspec": {
   "display_name": "Python 3 (ipykernel)",
   "language": "python",
   "name": "python3"
  },
  "language_info": {
   "codemirror_mode": {
    "name": "ipython",
    "version": 3
   },
   "file_extension": ".py",
   "mimetype": "text/x-python",
   "name": "python",
   "nbconvert_exporter": "python",
   "pygments_lexer": "ipython3",
   "version": "3.9.12"
  }
 },
 "nbformat": 4,
 "nbformat_minor": 5
}
