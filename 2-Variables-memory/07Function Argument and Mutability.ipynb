{
 "cells": [
  {
   "cell_type": "markdown",
   "id": "9e73a55b",
   "metadata": {},
   "source": [
    "## Function Arguments and mutability"
   ]
  },
  {
   "cell_type": "code",
   "execution_count": 1,
   "id": "2ccba5fe",
   "metadata": {},
   "outputs": [],
   "source": [
    "def process(s):\n",
    "    print('initial s # = {0}',format(hex(id(s))))\n",
    "    s = s+ 'world'\n",
    "    print(' s after change # = {0}.format(hex(id(s)))')"
   ]
  },
  {
   "cell_type": "code",
   "execution_count": 2,
   "id": "4c2ae009",
   "metadata": {},
   "outputs": [
    {
     "name": "stdout",
     "output_type": "stream",
     "text": [
      "my_var # = 0x21241069530\n"
     ]
    }
   ],
   "source": [
    "my_var = 'hello'\n",
    "print('my_var # = {0}'.format(hex(id(my_var))))"
   ]
  },
  {
   "cell_type": "code",
   "execution_count": 3,
   "id": "51eb5e89",
   "metadata": {},
   "outputs": [
    {
     "name": "stdout",
     "output_type": "stream",
     "text": [
      "initial s # = {0} 0x21241069530\n",
      " s after change # = {0}.format(hex(id(s)))\n"
     ]
    }
   ],
   "source": [
    "process(my_var)"
   ]
  },
  {
   "cell_type": "code",
   "execution_count": 4,
   "id": "07b89ef0",
   "metadata": {},
   "outputs": [
    {
     "name": "stdout",
     "output_type": "stream",
     "text": [
      "my_var # = 0x21241069530\n"
     ]
    }
   ],
   "source": [
    "print('my_var # = {0}'.format(hex(id(my_var))))"
   ]
  },
  {
   "cell_type": "code",
   "execution_count": 5,
   "id": "5a427937",
   "metadata": {},
   "outputs": [],
   "source": [
    "def modify_list(items):\n",
    "    print('initial item # = {0}'.format(hex(id(items))))\n",
    "    if len(items) > 0:\n",
    "        items[0] = items[0] ** 2\n",
    "        items.pop()\n",
    "        items.append(5)\n",
    "        print('final items # = {0}'.format(hex(id(items))))"
   ]
  },
  {
   "cell_type": "code",
   "execution_count": 6,
   "id": "90c1f1a2",
   "metadata": {},
   "outputs": [
    {
     "name": "stdout",
     "output_type": "stream",
     "text": [
      "my_list # = 0x2124143f400\n"
     ]
    }
   ],
   "source": [
    "my_list = [2,3,4]\n",
    "print('my_list # = {0}'.format(hex(id(my_list))))"
   ]
  },
  {
   "cell_type": "code",
   "execution_count": 7,
   "id": "9114bde3",
   "metadata": {},
   "outputs": [
    {
     "name": "stdout",
     "output_type": "stream",
     "text": [
      "initial item # = 0x2124143f400\n",
      "final items # = 0x2124143f400\n"
     ]
    }
   ],
   "source": [
    "modify_list(my_list)"
   ]
  },
  {
   "cell_type": "code",
   "execution_count": 8,
   "id": "08a4c249",
   "metadata": {},
   "outputs": [
    {
     "name": "stdout",
     "output_type": "stream",
     "text": [
      "[4, 3, 5]\n",
      "my_list # = 0x2124143f400\n"
     ]
    }
   ],
   "source": [
    "print(my_list)\n",
    "print('my_list # = {0}'.format(hex(id(my_list))))"
   ]
  },
  {
   "cell_type": "code",
   "execution_count": 9,
   "id": "92919826",
   "metadata": {},
   "outputs": [],
   "source": [
    "def modify_tuple(t):\n",
    "    print('intial t # = {0}'.format(hex(id(t))))\n",
    "    t[0].append(100)\n",
    "    print('final t # = {0}'.formatmat(hex(id(t))))"
   ]
  },
  {
   "cell_type": "code",
   "execution_count": 10,
   "id": "0d89d120",
   "metadata": {},
   "outputs": [],
   "source": [
    "my_tuple = ([1, 2], 'a')"
   ]
  },
  {
   "cell_type": "code",
   "execution_count": 11,
   "id": "73677522",
   "metadata": {},
   "outputs": [
    {
     "data": {
      "text/plain": [
       "'0x21241435400'"
      ]
     },
     "execution_count": 11,
     "metadata": {},
     "output_type": "execute_result"
    }
   ],
   "source": [
    "hex(id(my_tuple))"
   ]
  },
  {
   "cell_type": "code",
   "execution_count": 12,
   "id": "e57c72c2",
   "metadata": {},
   "outputs": [
    {
     "data": {
      "text/plain": [
       "([1, 2], 'a')"
      ]
     },
     "execution_count": 12,
     "metadata": {},
     "output_type": "execute_result"
    }
   ],
   "source": [
    "my_tuple"
   ]
  }
 ],
 "metadata": {
  "kernelspec": {
   "display_name": "Python 3 (ipykernel)",
   "language": "python",
   "name": "python3"
  },
  "language_info": {
   "codemirror_mode": {
    "name": "ipython",
    "version": 3
   },
   "file_extension": ".py",
   "mimetype": "text/x-python",
   "name": "python",
   "nbconvert_exporter": "python",
   "pygments_lexer": "ipython3",
   "version": "3.9.12"
  }
 },
 "nbformat": 4,
 "nbformat_minor": 5
}
