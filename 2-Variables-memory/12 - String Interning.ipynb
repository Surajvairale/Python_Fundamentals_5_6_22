{
 "cells": [
  {
   "cell_type": "markdown",
   "id": "a61279f9",
   "metadata": {},
   "source": [
    "## Python Optimization : String Interning"
   ]
  },
  {
   "cell_type": "code",
   "execution_count": 1,
   "id": "b9a4f256",
   "metadata": {},
   "outputs": [
    {
     "name": "stdout",
     "output_type": "stream",
     "text": [
      "2904696985840\n",
      "2904696985840\n"
     ]
    }
   ],
   "source": [
    "a = 'hello'\n",
    "b = 'hello'\n",
    "print(id(a))\n",
    "print(id(b))"
   ]
  },
  {
   "cell_type": "code",
   "execution_count": 2,
   "id": "47a37df2",
   "metadata": {},
   "outputs": [
    {
     "name": "stdout",
     "output_type": "stream",
     "text": [
      "2904726779440\n",
      "2904726713008\n"
     ]
    }
   ],
   "source": [
    "a = 'hello, world!'\n",
    "b = 'hello, world!'\n",
    "print(id(a))\n",
    "print(id(b))"
   ]
  },
  {
   "cell_type": "code",
   "execution_count": 3,
   "id": "27a06cab",
   "metadata": {},
   "outputs": [
    {
     "name": "stdout",
     "output_type": "stream",
     "text": [
      "2904725372336\n",
      "2904725372336\n"
     ]
    }
   ],
   "source": [
    "a = 'hello_world'\n",
    "b = 'hello_world'\n",
    "print(id(a))\n",
    "print(id(b))"
   ]
  },
  {
   "cell_type": "code",
   "execution_count": 4,
   "id": "c9b45a93",
   "metadata": {},
   "outputs": [
    {
     "name": "stdout",
     "output_type": "stream",
     "text": [
      "2904705115728\n",
      "2904705117072\n"
     ]
    }
   ],
   "source": [
    "a = '_this_is_long_string_that-could_be-as_an_identifier'\n",
    "b = '_this_is_long_string_that-could_be-as_an_identifier'\n",
    "print(id(a))\n",
    "print(id(b))"
   ]
  },
  {
   "cell_type": "code",
   "execution_count": 5,
   "id": "fe9af7de",
   "metadata": {},
   "outputs": [],
   "source": [
    "import sys"
   ]
  },
  {
   "cell_type": "code",
   "execution_count": 6,
   "id": "28d886b3",
   "metadata": {},
   "outputs": [
    {
     "name": "stdout",
     "output_type": "stream",
     "text": [
      "2904722677808\n",
      "2904722677808\n",
      "2904704977648\n"
     ]
    }
   ],
   "source": [
    "a = sys.intern('hello world')\n",
    "b = sys.intern('hello world')\n",
    "c = 'hello world'\n",
    "print(id(a))\n",
    "print(id(b))\n",
    "print(id(c))"
   ]
  },
  {
   "cell_type": "code",
   "execution_count": 7,
   "id": "897aad16",
   "metadata": {},
   "outputs": [
    {
     "name": "stdout",
     "output_type": "stream",
     "text": [
      "a == b: True\n",
      "a is b: True\n"
     ]
    }
   ],
   "source": [
    "print('a == b:', a==b)\n",
    "print('a is b:', a is b)"
   ]
  },
  {
   "cell_type": "code",
   "execution_count": 8,
   "id": "b2f21b45",
   "metadata": {},
   "outputs": [],
   "source": [
    "def compare_using_equals(n):\n",
    "    a = 'a long string that is not interned'* 200\n",
    "    b = 'a long srting that is not interned'*200\n",
    "    for i in range(n):\n",
    "        if a == b:\n",
    "            pass"
   ]
  },
  {
   "cell_type": "code",
   "execution_count": 11,
   "id": "a60b1101",
   "metadata": {},
   "outputs": [],
   "source": [
    "def compare_using_interning(n):\n",
    "    a = sys.intern('a long string that is not interned' *200)\n",
    "    b = sys.intern('a long string that is not interned' *200)\n",
    "    for i in range(n):\n",
    "        if a is b:\n",
    "            pass\n",
    "    "
   ]
  }
 ],
 "metadata": {
  "kernelspec": {
   "display_name": "Python 3 (ipykernel)",
   "language": "python",
   "name": "python3"
  },
  "language_info": {
   "codemirror_mode": {
    "name": "ipython",
    "version": 3
   },
   "file_extension": ".py",
   "mimetype": "text/x-python",
   "name": "python",
   "nbconvert_exporter": "python",
   "pygments_lexer": "ipython3",
   "version": "3.9.12"
  }
 },
 "nbformat": 4,
 "nbformat_minor": 5
}
