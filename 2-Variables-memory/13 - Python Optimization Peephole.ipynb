{
 "cells": [
  {
   "cell_type": "markdown",
   "id": "f7820dbb",
   "metadata": {},
   "source": [
    "## Python peephole Optimizations"
   ]
  },
  {
   "cell_type": "code",
   "execution_count": 2,
   "id": "8c96a57b",
   "metadata": {},
   "outputs": [],
   "source": [
    "def my_func():\n",
    "    a = 24 * 60\n",
    "    b = (1, 2) * 5\n",
    "    c = 'abc' * 3\n",
    "    d = 'ab' * 11 \n",
    "    e = 'the quick brown fox' * 10 \n",
    "    f = [1,2] * 5"
   ]
  },
  {
   "cell_type": "code",
   "execution_count": 3,
   "id": "5bc1e7b7",
   "metadata": {},
   "outputs": [
    {
     "data": {
      "text/plain": [
       "(None,\n",
       " 1440,\n",
       " (1, 2, 1, 2, 1, 2, 1, 2, 1, 2),\n",
       " 'abcabcabc',\n",
       " 'ababababababababababab',\n",
       " 'the quick brown foxthe quick brown foxthe quick brown foxthe quick brown foxthe quick brown foxthe quick brown foxthe quick brown foxthe quick brown foxthe quick brown foxthe quick brown fox',\n",
       " 1,\n",
       " 2,\n",
       " 5)"
      ]
     },
     "execution_count": 3,
     "metadata": {},
     "output_type": "execute_result"
    }
   ],
   "source": [
    "my_func.__code__.co_consts"
   ]
  },
  {
   "cell_type": "code",
   "execution_count": 5,
   "id": "4b7d4b5d",
   "metadata": {},
   "outputs": [],
   "source": [
    "def my_func():\n",
    "    if e in {1, 2, 3}:\n",
    "        pass"
   ]
  },
  {
   "cell_type": "code",
   "execution_count": 6,
   "id": "60e16bb8",
   "metadata": {},
   "outputs": [
    {
     "data": {
      "text/plain": [
       "(None, frozenset({1, 2, 3}))"
      ]
     },
     "execution_count": 6,
     "metadata": {},
     "output_type": "execute_result"
    }
   ],
   "source": [
    "my_func.__code__.co_consts"
   ]
  },
  {
   "cell_type": "code",
   "execution_count": 7,
   "id": "57c82c6f",
   "metadata": {},
   "outputs": [
    {
     "name": "stdout",
     "output_type": "stream",
     "text": [
      "['a', 'b', 'c', 'd', 'e', 'f', 'g', 'h', 'i', 'j', 'k', 'l', 'm', 'n', 'o', 'p', 'q', 'r', 's', 't', 'u', 'v', 'w', 'x', 'y', 'z', 'A', 'B', 'C', 'D', 'E', 'F', 'G', 'H', 'I', 'J', 'K', 'L', 'M', 'N', 'O', 'P', 'Q', 'R', 'S', 'T', 'U', 'V', 'W', 'X', 'Y', 'Z']\n",
      "\n",
      "('a', 'b', 'c', 'd', 'e', 'f', 'g', 'h', 'i', 'j', 'k', 'l', 'm', 'n', 'o', 'p', 'q', 'r', 's', 't', 'u', 'v', 'w', 'x', 'y', 'z', 'A', 'B', 'C', 'D', 'E', 'F', 'G', 'H', 'I', 'J', 'K', 'L', 'M', 'N', 'O', 'P', 'Q', 'R', 'S', 'T', 'U', 'V', 'W', 'X', 'Y', 'Z')\n",
      "\n",
      "{'P', 'O', 'N', 'g', 'f', 'r', 'w', 'D', 'c', 'v', 'l', 'u', 'H', 'y', 'R', 'B', 'J', 'X', 'G', 'x', 'p', 'C', 'T', 'e', 't', 'I', 'b', 'S', 'Q', 's', 'z', 'V', 'Z', 'M', 'F', 'k', 'U', 'W', 'q', 'n', 'A', 'd', 'i', 'E', 'K', 'j', 'a', 'o', 'h', 'L', 'Y', 'm'}\n"
     ]
    }
   ],
   "source": [
    "import string\n",
    "import time\n",
    "\n",
    "char_list = list(string.ascii_letters)\n",
    "char_tuple = tuple(string.ascii_letters) \n",
    "char_set = set(string.ascii_letters)\n",
    "\n",
    "print(char_list)\n",
    "print()\n",
    "print(char_tuple)\n",
    "print()\n",
    "print(char_set)"
   ]
  }
 ],
 "metadata": {
  "kernelspec": {
   "display_name": "Python 3 (ipykernel)",
   "language": "python",
   "name": "python3"
  },
  "language_info": {
   "codemirror_mode": {
    "name": "ipython",
    "version": 3
   },
   "file_extension": ".py",
   "mimetype": "text/x-python",
   "name": "python",
   "nbconvert_exporter": "python",
   "pygments_lexer": "ipython3",
   "version": "3.9.12"
  }
 },
 "nbformat": 4,
 "nbformat_minor": 5
}
