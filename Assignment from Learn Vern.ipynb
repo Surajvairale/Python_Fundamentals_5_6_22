{
 "cells": [
  {
   "cell_type": "code",
   "execution_count": 2,
   "id": "8c808223",
   "metadata": {},
   "outputs": [
    {
     "name": "stdout",
     "output_type": "stream",
     "text": [
      "Hello Python\n"
     ]
    }
   ],
   "source": [
    "#Write a program to print a string \"Hello Python\"\n",
    "A = \"Hello Python\"\n",
    "print(\"Hello Python\")"
   ]
  },
  {
   "cell_type": "code",
   "execution_count": 4,
   "id": "8b88a277",
   "metadata": {},
   "outputs": [
    {
     "name": "stdout",
     "output_type": "stream",
     "text": [
      "10\n"
     ]
    }
   ],
   "source": [
    "# Write a program to store one value in variable and print that variable.\n",
    "a = 10\n",
    "print(a)"
   ]
  },
  {
   "cell_type": "code",
   "execution_count": 12,
   "id": "03dff3de",
   "metadata": {},
   "outputs": [
    {
     "name": "stdout",
     "output_type": "stream",
     "text": [
      "Enter the value of A :200\n",
      "A : 200\n"
     ]
    }
   ],
   "source": [
    "#write a program to take value from user input and print that value.\n",
    "a = input(\"Enter the value of A :\")\n",
    "print(\"A :\",a)"
   ]
  },
  {
   "cell_type": "code",
   "execution_count": 18,
   "id": "eec957c0",
   "metadata": {},
   "outputs": [
    {
     "name": "stdout",
     "output_type": "stream",
     "text": [
      "Answer : 50\n"
     ]
    }
   ],
   "source": [
    "#write a program to do a sum of two value.\n",
    "a = 20\n",
    "b = 30\n",
    "\n",
    "z = a+b\n",
    "print(\"Answer :\",z)"
   ]
  },
  {
   "cell_type": "code",
   "execution_count": 20,
   "id": "9bfaf600",
   "metadata": {},
   "outputs": [
    {
     "name": "stdout",
     "output_type": "stream",
     "text": [
      "Answer :  200\n"
     ]
    }
   ],
   "source": [
    "# Write a pragram to perform division using variables.\n",
    "a = 10\n",
    "b = 20\n",
    "\n",
    "x = a*b\n",
    "print(\"Answer : \", x)"
   ]
  },
  {
   "cell_type": "code",
   "execution_count": 21,
   "id": "e66d3098",
   "metadata": {},
   "outputs": [
    {
     "name": "stdout",
     "output_type": "stream",
     "text": [
      "Answer : 52.5\n"
     ]
    }
   ],
   "source": [
    "#Write a program to print multiple value of variables.\n",
    "a = 30\n",
    "b = 40\n",
    "c = 60\n",
    "d = 80\n",
    "\n",
    "z = (a+b)*c/d\n",
    "print(\"Answer :\",z)"
   ]
  },
  {
   "cell_type": "code",
   "execution_count": 23,
   "id": "051faa96",
   "metadata": {},
   "outputs": [
    {
     "name": "stdout",
     "output_type": "stream",
     "text": [
      "<class 'str'>\n"
     ]
    }
   ],
   "source": [
    "#write a program to find a type of variable.\n",
    "a = (\"SURAj\")\n",
    "print(type(a))"
   ]
  },
  {
   "cell_type": "code",
   "execution_count": 26,
   "id": "d6f54977",
   "metadata": {},
   "outputs": [
    {
     "name": "stdout",
     "output_type": "stream",
     "text": [
      "Enter the value of A :222\n",
      "Enter the value of B :333\n",
      "A : 222 333\n"
     ]
    }
   ],
   "source": [
    "\n",
    "\n",
    "a = input(\"Enter the value of A :\")\n",
    "b = input(\"Enter the value of B :\")\n",
    "print(\"A :\",a,b)"
   ]
  },
  {
   "cell_type": "code",
   "execution_count": 29,
   "id": "840c78aa",
   "metadata": {},
   "outputs": [
    {
     "name": "stdout",
     "output_type": "stream",
     "text": [
      "Enter the value of A :222\n",
      "Enter the value of B: 3333\n",
      "A:\n"
     ]
    }
   ],
   "source": [
    "# Write a program to take two integer value from the \n",
    "# user and check both the value are same.\n",
    "a = input(\"Enter the value of A :\")\n",
    "b = input(\"Enter the value of B: \")\n",
    "\n",
    "print(\"A:\",a,b)\n",
    "\n"
   ]
  },
  {
   "cell_type": "code",
   "execution_count": null,
   "id": "0e8a4660",
   "metadata": {},
   "outputs": [],
   "source": []
  }
 ],
 "metadata": {
  "kernelspec": {
   "display_name": "Python 3 (ipykernel)",
   "language": "python",
   "name": "python3"
  },
  "language_info": {
   "codemirror_mode": {
    "name": "ipython",
    "version": 3
   },
   "file_extension": ".py",
   "mimetype": "text/x-python",
   "name": "python",
   "nbconvert_exporter": "python",
   "pygments_lexer": "ipython3",
   "version": "3.9.12"
  }
 },
 "nbformat": 4,
 "nbformat_minor": 5
}
