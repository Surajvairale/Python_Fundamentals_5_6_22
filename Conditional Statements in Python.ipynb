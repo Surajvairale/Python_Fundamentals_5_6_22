{
 "cells": [
  {
   "cell_type": "markdown",
   "id": "adf51d1d",
   "metadata": {},
   "source": [
    "# Simple if"
   ]
  },
  {
   "cell_type": "code",
   "execution_count": null,
   "id": "78c619c8",
   "metadata": {},
   "outputs": [],
   "source": [
    "var = 10\n",
    "if(var==10):#your condition is getting true\n",
    "    print(\"value of variable is 10\")\n",
    "    \n",
    "print(\"Bye\")"
   ]
  },
  {
   "cell_type": "code",
   "execution_count": null,
   "id": "8e08e5ca",
   "metadata": {},
   "outputs": [],
   "source": [
    "a = 25\n",
    "\n",
    "if (a>=30):# condition getting False\n",
    "    print(\"value of variableis is 25\")\n",
    "    \n",
    "print(\"bye\")"
   ]
  },
  {
   "cell_type": "markdown",
   "id": "2b19cb18",
   "metadata": {},
   "source": [
    "# If_else"
   ]
  },
  {
   "cell_type": "code",
   "execution_count": null,
   "id": "9efcf7cd",
   "metadata": {},
   "outputs": [],
   "source": [
    "a = int(input(\"Enter the value of A :\"))\n",
    "b = int(input(\"Enter the value of B :\"))\n",
    "\n",
    "if a<b:                      # condition is getting true\n",
    "    print(\"B is greater\")\n",
    "else:                        #Else part call\n",
    "    print(\"A is greater\")"
   ]
  },
  {
   "cell_type": "code",
   "execution_count": null,
   "id": "b47432a5",
   "metadata": {},
   "outputs": [],
   "source": [
    "x = 25\n",
    "y = 30\n",
    "if x<y:\n",
    "    print(\"Y is Greater\")\n",
    "else:\n",
    "    print(\"X is greater\")"
   ]
  },
  {
   "cell_type": "markdown",
   "id": "3e0b828b",
   "metadata": {},
   "source": [
    "# If_else_ladder"
   ]
  },
  {
   "cell_type": "code",
   "execution_count": null,
   "id": "d8c308cd",
   "metadata": {},
   "outputs": [],
   "source": [
    "# 1) Percentange greater than 70 == Dist\n",
    "# 2) Percentage greater or equal 65 and less than 70 == 1st class\n",
    "# 3) Percentage greater or equal 60 and less than 65 == 2st class\n",
    "# 4) Percentage greater or equal 55 and less than 60 == 3st class\n",
    "# 5) Percentage less than 55 == Fail\n",
    "\n",
    "p = int(input(\"Enter your percentange:\"))\n",
    "if p>70:\n",
    "    print(\"Dist\")\n",
    "elif p>=65 and p<70:\n",
    "    print(\"1st class\")\n",
    "elif p>=60 and p<65:\n",
    "    print(\"2nd class\")\n",
    "elif p>=55 and p<60:\n",
    "    print(\"3rd class\")\n",
    "else:\n",
    "    print(\"Fail\")"
   ]
  },
  {
   "cell_type": "markdown",
   "id": "63e1b592",
   "metadata": {},
   "source": [
    "# Nested If"
   ]
  },
  {
   "cell_type": "code",
   "execution_count": 27,
   "id": "d85b5883",
   "metadata": {},
   "outputs": [
    {
     "name": "stdout",
     "output_type": "stream",
     "text": [
      "Enter the age: 30\n",
      "Enter the weight : 40\n",
      "under weight\n"
     ]
    }
   ],
   "source": [
    "# 1) Age >= 18\n",
    "# 2) Weight >= 50\n",
    "# 3) If both age and weight match with certeria the the user can donate the blood\n",
    "# 4) If age is less tha 18 show one msg under age\n",
    "# 5) if weight is less than 50 show one msg under weight\n",
    "# 6) If age does not match the it should ask for weight\n",
    "\n",
    "age = int(input(\"Enter the age: \"))\n",
    "\n",
    "if age>=18:\n",
    "    weight = int(input(\"Enter the weight : \"))\n",
    "\n",
    "    if weight>=50:\n",
    "        print(\"Blood donate\")\n",
    "\n",
    "    else:\n",
    "        print(\"under weight\")\n",
    "else:\n",
    "    print(\"Under Age\")\n",
    "        "
   ]
  },
  {
   "cell_type": "code",
   "execution_count": null,
   "id": "edf32ae9",
   "metadata": {},
   "outputs": [],
   "source": []
  }
 ],
 "metadata": {
  "kernelspec": {
   "display_name": "Python 3 (ipykernel)",
   "language": "python",
   "name": "python3"
  },
  "language_info": {
   "codemirror_mode": {
    "name": "ipython",
    "version": 3
   },
   "file_extension": ".py",
   "mimetype": "text/x-python",
   "name": "python",
   "nbconvert_exporter": "python",
   "pygments_lexer": "ipython3",
   "version": "3.9.12"
  }
 },
 "nbformat": 4,
 "nbformat_minor": 5
}
