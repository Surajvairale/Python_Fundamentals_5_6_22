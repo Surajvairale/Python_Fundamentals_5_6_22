{
 "cells": [
  {
   "cell_type": "markdown",
   "id": "6ebb3d67",
   "metadata": {},
   "source": [
    "# Creating  a Dictionary"
   ]
  },
  {
   "cell_type": "code",
   "execution_count": 4,
   "id": "e2b7d9b6",
   "metadata": {},
   "outputs": [
    {
     "name": "stdout",
     "output_type": "stream",
     "text": [
      "{1: 'Apple', 2: 'Mango', 3: 'Orange', 4: 'Apple', 'A': 'B'}\n",
      "<class 'dict'>\n"
     ]
    }
   ],
   "source": [
    "d1 = {1:\"Apple\",2:\"Mango\",3:\"Orange\",4:\"Apple\",'A':'B'}\n",
    "print(d1)\n",
    "print(type(d1))\n"
   ]
  },
  {
   "cell_type": "markdown",
   "id": "6679e9a0",
   "metadata": {},
   "source": [
    "# List into Dictionary store"
   ]
  },
  {
   "cell_type": "code",
   "execution_count": 8,
   "id": "7bbb8413",
   "metadata": {},
   "outputs": [
    {
     "name": "stdout",
     "output_type": "stream",
     "text": [
      "{1: 'Python', 2: 'Java', 'Fruit': ['Apple', 'Orange', 'Mango']}\n"
     ]
    }
   ],
   "source": [
    "d2 = {1:\"Python\",2:\"Java\",\"Fruit\":[\"Apple\",\"Orange\",\"Mango\"]}\n",
    "print(d2)\n"
   ]
  },
  {
   "cell_type": "markdown",
   "id": "37caf1a9",
   "metadata": {},
   "source": [
    "# Tuple into dictionary store"
   ]
  },
  {
   "cell_type": "code",
   "execution_count": 10,
   "id": "b267cb3b",
   "metadata": {},
   "outputs": [
    {
     "name": "stdout",
     "output_type": "stream",
     "text": [
      "{1: 'Pyhton', 2: 'Java', 'Language': ('Java', 'Python', 'Php')}\n"
     ]
    }
   ],
   "source": [
    "d3 = {1:\"Pyhton\",2:\"Java\",\"Language\" : (\"Java\",\"Python\",\"Php\")}\n",
    "print(d3)"
   ]
  },
  {
   "cell_type": "markdown",
   "id": "a050e26e",
   "metadata": {},
   "source": [
    "# Access the value of dictionary"
   ]
  },
  {
   "cell_type": "code",
   "execution_count": 15,
   "id": "f03f2063",
   "metadata": {},
   "outputs": [
    {
     "name": "stdout",
     "output_type": "stream",
     "text": [
      "Current Dictionary  : {1: 'Apple', 2: 'Mango', 3: 'Orange', 4: 'Apple', 'A': 'B'}\n",
      "Orange\n",
      "Apple\n",
      "dict_items([(1, 'Apple'), (2, 'Mango'), (3, 'Orange'), (4, 'Apple'), ('A', 'B')])\n"
     ]
    }
   ],
   "source": [
    "d1 = {1:\"Apple\",2:\"Mango\",3:\"Orange\",4:\"Apple\",'A':'B'}\n",
    "print(\"Current Dictionary  :\",d1)\n",
    "\n",
    "x = d1[3]\n",
    "print(x)\n",
    "\n",
    "y = d1.get(1)\n",
    "print(y)\n",
    "\n",
    "z = d1.items()\n",
    "print(z)"
   ]
  },
  {
   "cell_type": "markdown",
   "id": "36e64846",
   "metadata": {},
   "source": [
    "# Change the value"
   ]
  },
  {
   "cell_type": "code",
   "execution_count": 17,
   "id": "4f1985bd",
   "metadata": {},
   "outputs": [
    {
     "name": "stdout",
     "output_type": "stream",
     "text": [
      "Updated Dictionary  :  {1: 'Apple', 2: 'Mango', 3: 'Kiwi', 4: 'Apple', 'A': 'B'}\n"
     ]
    }
   ],
   "source": [
    "d1 = {1:\"Apple\",2:\"Mango\",3:\"Orange\",4:\"Apple\",'A':'B'}\n",
    "d1[3]= \"Kiwi\"\n",
    "print(\"Updated Dictionary  : \",d1)\n",
    "\n"
   ]
  },
  {
   "cell_type": "code",
   "execution_count": 21,
   "id": "dd7ecfc7",
   "metadata": {},
   "outputs": [
    {
     "name": "stdout",
     "output_type": "stream",
     "text": [
      "current Dictionary :  {1: 'Apple', 2: 'Alex', 3: 'Kiwi', 4: 'Apple', 'A': 'B'}\n"
     ]
    }
   ],
   "source": [
    "print(\"current Dictionary : \",d1)\n",
    "d1.update({2:\"Alex\"})"
   ]
  },
  {
   "cell_type": "markdown",
   "id": "784ec50a",
   "metadata": {},
   "source": [
    "# Remove values from Dictionary\n"
   ]
  },
  {
   "cell_type": "code",
   "execution_count": 33,
   "id": "17c26707",
   "metadata": {},
   "outputs": [
    {
     "name": "stdout",
     "output_type": "stream",
     "text": [
      "current Dictionary :  {1: 'Apple', 2: 'Mango', 3: 'Orange', 4: 'Apple', 'A': 'B'}\n",
      "keys : dict_keys([1, 2, 3, 4, 'A'])\n",
      "Values :  dict_values(['Apple', 'Mango', 'Orange', 'Apple', 'B'])\n"
     ]
    }
   ],
   "source": [
    "d1 = {1:\"Apple\",2:\"Mango\",3:\"Orange\",4:\"Apple\",  'A':'B'}\n",
    "print(\"current Dictionary : \",d1)\n",
    "\n",
    "# d1.pop(2)\n",
    "# print(\"Updated Dictionary : \",d1)\n",
    "\n",
    "# d1.popitem()\n",
    "# print(\"Update Dictionary  : \" ,d1)\n",
    "\n",
    "# del d1[1]\n",
    "# print(\"PUpdate Dictionary  : \",d1)\n",
    "\n",
    "# d1.clear()\n",
    "# print(\"Update Dictionary : \",d1)\n",
    "\n",
    "#Access the only keys from dictionary \n",
    "\n",
    "k = d1.keys()\n",
    "print(\"keys :\",k)\n",
    "\n",
    "v = d1.values()\n",
    "print(\"Values : \",v)"
   ]
  }
 ],
 "metadata": {
  "kernelspec": {
   "display_name": "Python 3 (ipykernel)",
   "language": "python",
   "name": "python3"
  },
  "language_info": {
   "codemirror_mode": {
    "name": "ipython",
    "version": 3
   },
   "file_extension": ".py",
   "mimetype": "text/x-python",
   "name": "python",
   "nbconvert_exporter": "python",
   "pygments_lexer": "ipython3",
   "version": "3.9.12"
  }
 },
 "nbformat": 4,
 "nbformat_minor": 5
}
