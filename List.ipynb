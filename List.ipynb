{
 "cells": [
  {
   "cell_type": "markdown",
   "id": "f316b3b3",
   "metadata": {},
   "source": [
    "# Creating a list "
   ]
  },
  {
   "cell_type": "code",
   "execution_count": 5,
   "id": "c0b86ca6",
   "metadata": {},
   "outputs": [
    {
     "name": "stdout",
     "output_type": "stream",
     "text": [
      "Integer list  : [1, 2, 3, 4, 5, 6]\n",
      "String list   : ['Apple', 'Mango', 'Orange']\n"
     ]
    }
   ],
   "source": [
    "#This list store the Integer values\n",
    "\n",
    "l1 = [1,2,3,4,5,6]\n",
    "\n",
    "#this list store the String values\n",
    "l2 = [\"Apple\",\"Mango\",\"Orange\"]\n",
    "print(\"Integer list  :\",l1)\n",
    "print(\"String list   :\",l2)"
   ]
  },
  {
   "cell_type": "markdown",
   "id": "4851466a",
   "metadata": {},
   "source": [
    "# Duplicate values in List"
   ]
  },
  {
   "cell_type": "code",
   "execution_count": 6,
   "id": "6fe7f115",
   "metadata": {},
   "outputs": [
    {
     "name": "stdout",
     "output_type": "stream",
     "text": [
      "Dupicate value  :  [1, 2, 3, 4, 5, 6, 1, 2]\n"
     ]
    }
   ],
   "source": [
    "l1 = [1,2,3,4,5,6,1,2,]\n",
    "print(\"Dupicate value  : \", l1)"
   ]
  },
  {
   "cell_type": "markdown",
   "id": "958c285a",
   "metadata": {},
   "source": [
    "# List Contructor"
   ]
  },
  {
   "cell_type": "code",
   "execution_count": 7,
   "id": "70ebcc79",
   "metadata": {},
   "outputs": [
    {
     "name": "stdout",
     "output_type": "stream",
     "text": [
      "['Apple', 'Mango', 'Orange']\n"
     ]
    }
   ],
   "source": [
    "l1 = list((\"Apple\",\"Mango\",\"Orange\"))\n",
    "print(l1)"
   ]
  },
  {
   "cell_type": "markdown",
   "id": "1ea656b3",
   "metadata": {},
   "source": [
    "# List Sciling"
   ]
  },
  {
   "cell_type": "code",
   "execution_count": 12,
   "id": "e219bbe6",
   "metadata": {},
   "outputs": [
    {
     "name": "stdout",
     "output_type": "stream",
     "text": [
      "Current List :  [1, 2, 3, 4, 5, 6, 7, 8, 10]\n",
      "Index 1 Value :   2\n",
      "Index Between 1 to 6  :  [2, 3, 4, 5, 6]\n",
      "Index till :  [1, 2, 3, 4, 5, 6]\n",
      "Last Value  :  10\n"
     ]
    }
   ],
   "source": [
    "l1 = [1,2,3,4,5,6,7,8,10]\n",
    "print(\"Current List : \", l1)\n",
    "\n",
    "# Access the value of index one\n",
    "print(\"Index 1 Value :  \", l1[1])\n",
    "\n",
    "#Access the value between 1 to 6\n",
    "print(\"Index Between 1 to 6  : \", l1[1:6])\n",
    "\n",
    "# Access the value till index  6\n",
    "print(\"Index till : \", l1[:6])\n",
    "\n",
    "# Access the value from list\n",
    "print(\"Last Value  : \",l1[-1])"
   ]
  },
  {
   "cell_type": "markdown",
   "id": "1b35b870",
   "metadata": {},
   "source": [
    "# List item Change"
   ]
  },
  {
   "cell_type": "code",
   "execution_count": 14,
   "id": "88ec1778",
   "metadata": {},
   "outputs": [
    {
     "name": "stdout",
     "output_type": "stream",
     "text": [
      "Current List  :  ['Apple', 'Banana', 'Cherry', 'Mango', 'Orange', 'kiwi']\n",
      "Updated List: ['Apple', 'Grapes', 'Watermelon', 'Mango', 'Orange', 'kiwi']\n"
     ]
    }
   ],
   "source": [
    "x = [\"Apple\",\"Banana\",\"Cherry\",\"Mango\",\"Orange\",\"kiwi\"]\n",
    "print(\"Current List  : \",x)\n",
    "\n",
    "# Change the item in list\n",
    "x[1:3] = [\"Grapes\",\"Watermelon\"]\n",
    "print(\"Updated List:\",x)"
   ]
  },
  {
   "cell_type": "markdown",
   "id": "99f52d38",
   "metadata": {},
   "source": [
    "# Insert into List"
   ]
  },
  {
   "cell_type": "code",
   "execution_count": 16,
   "id": "53567254",
   "metadata": {},
   "outputs": [
    {
     "name": "stdout",
     "output_type": "stream",
     "text": [
      "Current list :  [1, 2, 3, 4, 5, 6]\n",
      "Updated List :  [1, 2, 'python', 3, 4, 5, 6]\n"
     ]
    }
   ],
   "source": [
    "l1 = [1,2,3,4,5,6]\n",
    "print(\"Current list : \",l1)\n",
    "#Updating thelist using insert method\n",
    "\n",
    "l1.insert(2,\"python\")\n",
    "print(\"Updated List : \",l1)\n"
   ]
  },
  {
   "cell_type": "code",
   "execution_count": 4,
   "id": "db9fe36a",
   "metadata": {},
   "outputs": [
    {
     "name": "stdout",
     "output_type": "stream",
     "text": [
      "current list  :  ['java', 'Php', '.Net', 'Angular']\n",
      "Updated List  :  ['java', 'Php', 'Python', '.Net', 'Angular']\n"
     ]
    }
   ],
   "source": [
    "#Write a pragram to insert the element \"PYTHON \" on index 2 in the given list [\"java\",\"Php\",\".Net\",\"Angular\"]\n",
    "l1 = [\"java\",\"Php\",\".Net\",\"Angular\"]\n",
    "print(\"current list  : \",l1)\n",
    "\n",
    "l1.insert(2,\"Python\")\n",
    "print(\"Updated List  : \",l1)"
   ]
  },
  {
   "cell_type": "markdown",
   "id": "e01a4136",
   "metadata": {},
   "source": [
    "# Extend the list "
   ]
  },
  {
   "cell_type": "code",
   "execution_count": 22,
   "id": "6a3d9778",
   "metadata": {},
   "outputs": [
    {
     "name": "stdout",
     "output_type": "stream",
     "text": [
      "[1, 2, 3, 4, 5, 'A', 'B', 'C', 'D', 'E']\n"
     ]
    }
   ],
   "source": [
    "l1 = [1,2,3,4,5]\n",
    "l2 = ['A','B','C','D','E']\n",
    "l1.extend(l2)\n",
    "print(l1)"
   ]
  },
  {
   "cell_type": "markdown",
   "id": "506d43ea",
   "metadata": {},
   "source": [
    "# Remove item from List"
   ]
  },
  {
   "cell_type": "code",
   "execution_count": 27,
   "id": "a9852de2",
   "metadata": {},
   "outputs": [
    {
     "name": "stdout",
     "output_type": "stream",
     "text": [
      "Current List  :  [1, 2, 3, 4, 5, 6, 7]\n",
      "Updated List :  [1, 2, 4, 5, 6, 7]\n"
     ]
    }
   ],
   "source": [
    "# Remove() : This method is use to remove element from list\n",
    "\n",
    "l1 = [1,2,3,4,5,6,7]\n",
    "print(\"Current List  : \",l1)\n",
    "\n",
    "#Removing the item using revome method\n",
    "l1.remove(3)\n",
    "print(\"Updated List : \",l1)"
   ]
  },
  {
   "cell_type": "code",
   "execution_count": 6,
   "id": "ac600fbf",
   "metadata": {},
   "outputs": [
    {
     "name": "stdout",
     "output_type": "stream",
     "text": [
      "Curret List  :  [1, 2, 3, 4, 5, 6]\n",
      "Updated List :  [1, 2, 4, 5, 6]\n"
     ]
    }
   ],
   "source": [
    "#write a pragram to remove the element \"3\" from the given list [1,2,3,4,5,6]\n",
    "l1 = [1,2,3,4,5,6]\n",
    "print(\"Curret List  : \",l1)\n",
    "l1.remove(3)\n",
    "print(\"Updated List : \",l1)"
   ]
  },
  {
   "cell_type": "code",
   "execution_count": 29,
   "id": "a6750bd3",
   "metadata": {
    "scrolled": true
   },
   "outputs": [
    {
     "name": "stdout",
     "output_type": "stream",
     "text": [
      "Current List  :  [1, 2, 3, 4, 5, 6, 7]\n",
      "Update List  :  [1, 2, 3, 4, 5, 6]\n"
     ]
    }
   ],
   "source": [
    "#POP()  :This method is used to remove last value from list\n",
    "\n",
    "l1 = [1,2,3,4,5,6,7]\n",
    "print(\"Current List  : \",l1)\n",
    "\n",
    "#remove item using pop method\n",
    "l1.pop()\n",
    "print(\"Update List  : \", l1)"
   ]
  },
  {
   "cell_type": "code",
   "execution_count": 32,
   "id": "71d8a4c9",
   "metadata": {},
   "outputs": [
    {
     "name": "stdout",
     "output_type": "stream",
     "text": [
      "Current List  :  [1, 2, 3, 4, 5, 6, 7]\n",
      "Update list :  [1, 2, 4, 5, 6, 7]\n"
     ]
    }
   ],
   "source": [
    "# del() : This method is used to remove to remove the item from the index\n",
    "\n",
    "l1 = [1,2,3,4,5,6,7]\n",
    "print(\"Current List  : \",l1)\n",
    "\n",
    "# Remove item using del method\n",
    "del l1[2]\n",
    "print(\"Update list : \",l1)"
   ]
  },
  {
   "cell_type": "code",
   "execution_count": 34,
   "id": "60e8d663",
   "metadata": {},
   "outputs": [
    {
     "name": "stdout",
     "output_type": "stream",
     "text": [
      "Current List  :  [1, 2, 3, 4, 5, 6, 7]\n",
      "updated list  :  []\n"
     ]
    }
   ],
   "source": [
    "# This method to used Clear the list\n",
    "l1 = [1,2,3,4,5,6,7]\n",
    "print(\"Current List  : \",l1)\n",
    "\n",
    "# remove item using clear method\n",
    "l1.clear()\n",
    "print(\"updated list  : \",l1)"
   ]
  },
  {
   "cell_type": "code",
   "execution_count": null,
   "id": "ba7c27c2",
   "metadata": {},
   "outputs": [],
   "source": []
  }
 ],
 "metadata": {
  "kernelspec": {
   "display_name": "Python 3 (ipykernel)",
   "language": "python",
   "name": "python3"
  },
  "language_info": {
   "codemirror_mode": {
    "name": "ipython",
    "version": 3
   },
   "file_extension": ".py",
   "mimetype": "text/x-python",
   "name": "python",
   "nbconvert_exporter": "python",
   "pygments_lexer": "ipython3",
   "version": "3.9.12"
  }
 },
 "nbformat": 4,
 "nbformat_minor": 5
}
