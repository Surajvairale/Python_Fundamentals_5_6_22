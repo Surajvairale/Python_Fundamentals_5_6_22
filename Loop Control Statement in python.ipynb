{
 "cells": [
  {
   "cell_type": "markdown",
   "id": "e6eae55e",
   "metadata": {},
   "source": [
    "# Break Statement"
   ]
  },
  {
   "cell_type": "code",
   "execution_count": 18,
   "id": "980cb8f6",
   "metadata": {},
   "outputs": [
    {
     "name": "stdout",
     "output_type": "stream",
     "text": [
      "Current letter :  p\n",
      "Current letter :  y\n",
      "Current letter :  t\n",
      "Current letter :  h\n",
      "BYE\n"
     ]
    }
   ],
   "source": [
    "for letter in \"python\":\n",
    "    if letter == \"o\":\n",
    "        #here im using to break statement to break execution\n",
    "        break\n",
    "    print(\"Current letter : \", letter)\n",
    "print(\"BYE\")   "
   ]
  },
  {
   "cell_type": "markdown",
   "id": "226dd7db",
   "metadata": {},
   "source": [
    "# Continue Statement"
   ]
  },
  {
   "cell_type": "code",
   "execution_count": 20,
   "id": "177adaf8",
   "metadata": {},
   "outputs": [
    {
     "name": "stdout",
     "output_type": "stream",
     "text": [
      "current letter p\n",
      "current letter y\n",
      "current letter t\n",
      "current letter o\n",
      "current letter n\n",
      "BYE\n"
     ]
    }
   ],
   "source": [
    "for letter in \"python\":\n",
    "    if letter == 'h':\n",
    "        # continue statement will skip the \"h\"\n",
    "        continue\n",
    "    print(\"current letter\", letter)\n",
    "print(\"BYE\")"
   ]
  },
  {
   "cell_type": "markdown",
   "id": "c4794bfb",
   "metadata": {},
   "source": [
    "# pass Statement"
   ]
  },
  {
   "cell_type": "code",
   "execution_count": 22,
   "id": "891c3eca",
   "metadata": {},
   "outputs": [
    {
     "name": "stdout",
     "output_type": "stream",
     "text": [
      "current letter: p\n",
      "current letter: y\n",
      "current letter: t\n",
      "pass block\n",
      "current letter: h\n",
      "current letter: o\n",
      "current letter: n\n",
      "BYE\n"
     ]
    }
   ],
   "source": [
    "for letter in \"python\":\n",
    "    if letter == 'h':\n",
    "        pass\n",
    "        print(\"pass block\")\n",
    "    print(\"current letter:\", letter)\n",
    "print(\"BYE\")"
   ]
  }
 ],
 "metadata": {
  "kernelspec": {
   "display_name": "Python 3 (ipykernel)",
   "language": "python",
   "name": "python3"
  },
  "language_info": {
   "codemirror_mode": {
    "name": "ipython",
    "version": 3
   },
   "file_extension": ".py",
   "mimetype": "text/x-python",
   "name": "python",
   "nbconvert_exporter": "python",
   "pygments_lexer": "ipython3",
   "version": "3.9.12"
  }
 },
 "nbformat": 4,
 "nbformat_minor": 5
}
