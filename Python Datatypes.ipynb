{
 "cells": [
  {
   "cell_type": "markdown",
   "id": "fcd7ad76",
   "metadata": {},
   "source": [
    "# Numeric Datatypes\n"
   ]
  },
  {
   "cell_type": "code",
   "execution_count": 5,
   "id": "b12de677",
   "metadata": {},
   "outputs": [
    {
     "name": "stdout",
     "output_type": "stream",
     "text": [
      "<class 'int'>\n",
      "<class 'float'>\n",
      "<class 'complex'>\n"
     ]
    }
   ],
   "source": [
    "# Int datatypes\n",
    "a = 10 \n",
    "print(type(a))\n",
    "\n",
    "#Float datatype\n",
    "b = 10.5\n",
    "print(type(b))\n",
    "\n",
    "# Complex Datatype\n",
    "C = 2+4j\n",
    "print(type(C))"
   ]
  },
  {
   "cell_type": "markdown",
   "id": "86ee63bf",
   "metadata": {},
   "source": [
    "# Boolean Datatypes"
   ]
  },
  {
   "cell_type": "code",
   "execution_count": 8,
   "id": "0aeb9473",
   "metadata": {},
   "outputs": [
    {
     "name": "stdout",
     "output_type": "stream",
     "text": [
      "<class 'bool'>\n",
      "<class 'bool'>\n"
     ]
    }
   ],
   "source": [
    "d = True\n",
    "print(type(d))\n",
    "\n",
    "e = False\n",
    "print(type(e))"
   ]
  },
  {
   "cell_type": "markdown",
   "id": "5a3d9e96",
   "metadata": {},
   "source": [
    "# set Datatypes"
   ]
  },
  {
   "cell_type": "code",
   "execution_count": 17,
   "id": "ad2307d1",
   "metadata": {},
   "outputs": [
    {
     "name": "stdout",
     "output_type": "stream",
     "text": [
      "<class 'set'>\n"
     ]
    }
   ],
   "source": [
    "f = {'a''b''c'}\n",
    "print(type(f))\n",
    "\n",
    "    "
   ]
  },
  {
   "cell_type": "markdown",
   "id": "ba355376",
   "metadata": {},
   "source": [
    "# Dictionary Datatypes"
   ]
  },
  {
   "cell_type": "code",
   "execution_count": 18,
   "id": "f066b85a",
   "metadata": {},
   "outputs": [
    {
     "name": "stdout",
     "output_type": "stream",
     "text": [
      "<class 'dict'>\n"
     ]
    }
   ],
   "source": [
    "x = {\"key\": \"value\"}\n",
    "print(type(x))"
   ]
  },
  {
   "cell_type": "code",
   "execution_count": 19,
   "id": "9369e027",
   "metadata": {},
   "outputs": [],
   "source": [
    "#Sequence Datatypes"
   ]
  },
  {
   "cell_type": "code",
   "execution_count": 20,
   "id": "79c56b8b",
   "metadata": {},
   "outputs": [
    {
     "name": "stdout",
     "output_type": "stream",
     "text": [
      "<class 'list'>\n"
     ]
    }
   ],
   "source": [
    "# List Dattypes\n",
    "l1 = ['1''2''3''4''5']\n",
    "print(type(l1))"
   ]
  },
  {
   "cell_type": "code",
   "execution_count": 21,
   "id": "c3c6534e",
   "metadata": {},
   "outputs": [
    {
     "name": "stdout",
     "output_type": "stream",
     "text": [
      "<class 'str'>\n"
     ]
    }
   ],
   "source": [
    "#string Datatypes\n",
    "y = \"python program\"\n",
    "print(type(y))"
   ]
  },
  {
   "cell_type": "code",
   "execution_count": 23,
   "id": "9b63c094",
   "metadata": {},
   "outputs": [
    {
     "name": "stdout",
     "output_type": "stream",
     "text": [
      "<class 'tuple'>\n"
     ]
    }
   ],
   "source": [
    "#Tuple Datatypes\n",
    "z = (1,2,3,4,5)\n",
    "print(type(z))"
   ]
  },
  {
   "cell_type": "code",
   "execution_count": null,
   "id": "a26971a0",
   "metadata": {},
   "outputs": [],
   "source": []
  }
 ],
 "metadata": {
  "kernelspec": {
   "display_name": "Python 3 (ipykernel)",
   "language": "python",
   "name": "python3"
  },
  "language_info": {
   "codemirror_mode": {
    "name": "ipython",
    "version": 3
   },
   "file_extension": ".py",
   "mimetype": "text/x-python",
   "name": "python",
   "nbconvert_exporter": "python",
   "pygments_lexer": "ipython3",
   "version": "3.9.12"
  }
 },
 "nbformat": 4,
 "nbformat_minor": 5
}
