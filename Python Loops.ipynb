{
 "cells": [
  {
   "cell_type": "markdown",
   "id": "c4664c1a",
   "metadata": {},
   "source": [
    "# While Loop"
   ]
  },
  {
   "cell_type": "code",
   "execution_count": 7,
   "id": "dbb00a08",
   "metadata": {},
   "outputs": [
    {
     "name": "stdout",
     "output_type": "stream",
     "text": [
      "N:5\n",
      "Sum : 5\n",
      "Sum : 9\n",
      "Sum : 12\n",
      "Sum : 14\n",
      "Sum : 15\n",
      "BYE\n"
     ]
    }
   ],
   "source": [
    "# 5,9,12,14,15\n",
    "\n",
    "sum = 0\n",
    "n = int(input(\"N:\"))\n",
    "while n>0:\n",
    "    sum = sum+n\n",
    "    n-=1\n",
    "    print(\"Sum :\",sum)\n",
    "print(\"BYE\")\n"
   ]
  },
  {
   "cell_type": "markdown",
   "id": "346e9e1d",
   "metadata": {},
   "source": [
    "# While Loop With else part"
   ]
  },
  {
   "cell_type": "code",
   "execution_count": null,
   "id": "3fdf80a9",
   "metadata": {},
   "outputs": [],
   "source": [
    "# 5,9,12,14,15\n",
    "\n",
    "sum = 0\n",
    "n = int(input(\"N:\"))\n",
    "while n>0:\n",
    "    sum = sum+n\n",
    "    n-=1\n",
    "    print(\"Sum :\",sum)\n",
    "else:\n",
    "    print(\"loop error\")\n",
    "    \n",
    "print(\"BYE\")\n"
   ]
  },
  {
   "cell_type": "markdown",
   "id": "3e108eb2",
   "metadata": {},
   "source": [
    "# Simple For Loop"
   ]
  },
  {
   "cell_type": "code",
   "execution_count": 13,
   "id": "c19d6f2d",
   "metadata": {},
   "outputs": [
    {
     "name": "stdout",
     "output_type": "stream",
     "text": [
      "Python = 6\n",
      "Java = 4\n",
      "Angular = 7\n",
      "Graphic = 7\n"
     ]
    }
   ],
   "source": [
    "word = [\"Python\",\"Java\",\"Angular\",\"Graphic\"]\n",
    "for i in word:\n",
    "    print(i,'=', len(i))"
   ]
  },
  {
   "cell_type": "markdown",
   "id": "1aab6d80",
   "metadata": {},
   "source": [
    "# Nested For Loop"
   ]
  },
  {
   "cell_type": "code",
   "execution_count": 19,
   "id": "829a5b88",
   "metadata": {},
   "outputs": [
    {
     "name": "stdout",
     "output_type": "stream",
     "text": [
      "\n",
      "*\n",
      "**\n",
      "***\n",
      "****\n",
      "*****\n",
      "******\n",
      "*******\n",
      "********\n"
     ]
    }
   ],
   "source": [
    "# *\n",
    "# **\n",
    "# ***\n",
    "# ****\n",
    "# *****\n",
    "\n",
    "# range(Start point,End point,step(jump))\n",
    "\n",
    "for i in range(9):\n",
    "    for j in range(i):\n",
    "        print(\"*\",end=\"\")\n",
    "    print()"
   ]
  },
  {
   "cell_type": "code",
   "execution_count": 24,
   "id": "d924722a",
   "metadata": {},
   "outputs": [
    {
     "name": "stdout",
     "output_type": "stream",
     "text": [
      "*********\n",
      "********\n",
      "*******\n",
      "******\n",
      "*****\n",
      "****\n",
      "***\n",
      "**\n",
      "*\n"
     ]
    }
   ],
   "source": [
    "for i in range(9,0,-1):\n",
    "    for j in range(i):\n",
    "        print(\"*\",end=\"\")\n",
    "    print()"
   ]
  }
 ],
 "metadata": {
  "kernelspec": {
   "display_name": "Python 3 (ipykernel)",
   "language": "python",
   "name": "python3"
  },
  "language_info": {
   "codemirror_mode": {
    "name": "ipython",
    "version": 3
   },
   "file_extension": ".py",
   "mimetype": "text/x-python",
   "name": "python",
   "nbconvert_exporter": "python",
   "pygments_lexer": "ipython3",
   "version": "3.9.12"
  }
 },
 "nbformat": 4,
 "nbformat_minor": 5
}
