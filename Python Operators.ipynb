{
 "cells": [
  {
   "cell_type": "markdown",
   "id": "b423542d",
   "metadata": {},
   "source": [
    "# Arithemethic opertor"
   ]
  },
  {
   "cell_type": "code",
   "execution_count": 1,
   "id": "2baf91bf",
   "metadata": {},
   "outputs": [
    {
     "name": "stdout",
     "output_type": "stream",
     "text": [
      " Answer :  30\n"
     ]
    }
   ],
   "source": [
    "# Addition operator\n",
    "\n",
    "x = 10\n",
    "y = 20\n",
    "\n",
    "z = x+y \n",
    "print(\" Answer : \",z)"
   ]
  },
  {
   "cell_type": "code",
   "execution_count": 2,
   "id": "21e8c6bc",
   "metadata": {},
   "outputs": [
    {
     "name": "stdout",
     "output_type": "stream",
     "text": [
      " Answer :  10\n"
     ]
    }
   ],
   "source": [
    "# Subtraction operator\n",
    "\n",
    "x = 30\n",
    "y = 20\n",
    "\n",
    "z = x-y\n",
    "print(\" Answer : \",z)"
   ]
  },
  {
   "cell_type": "code",
   "execution_count": 3,
   "id": "3bc56c72",
   "metadata": {},
   "outputs": [
    {
     "name": "stdout",
     "output_type": "stream",
     "text": [
      " Answer : 20\n"
     ]
    }
   ],
   "source": [
    "#Multiplication operator\n",
    "\n",
    "x = 10\n",
    "y = 2\n",
    "\n",
    "z = x*y\n",
    "print(\" Answer :\",z)"
   ]
  },
  {
   "cell_type": "markdown",
   "id": "70571da7",
   "metadata": {},
   "source": [
    "# Assignment Operator"
   ]
  },
  {
   "cell_type": "code",
   "execution_count": 10,
   "id": "08b3656e",
   "metadata": {},
   "outputs": [
    {
     "name": "stdout",
     "output_type": "stream",
     "text": [
      "x : 5\n"
     ]
    }
   ],
   "source": [
    "# Equal to operator\n",
    "\n",
    "x = 5\n",
    "print(\"x :\",x)\n"
   ]
  },
  {
   "cell_type": "code",
   "execution_count": 9,
   "id": "6583972e",
   "metadata": {},
   "outputs": [
    {
     "name": "stdout",
     "output_type": "stream",
     "text": [
      "x:  10\n"
     ]
    }
   ],
   "source": [
    "# Addition and Equal to operator\n",
    "x= 5\n",
    "x+=5 #x = x+5\n",
    "print(\"x: \",x)\n"
   ]
  },
  {
   "cell_type": "code",
   "execution_count": 12,
   "id": "b468f1ed",
   "metadata": {},
   "outputs": [
    {
     "name": "stdout",
     "output_type": "stream",
     "text": [
      "x: 4\n"
     ]
    }
   ],
   "source": [
    "# Subtraction and Equal to operator\n",
    "x = 6 \n",
    "x-=2 #x = x-2\n",
    "print(\"x:\",x)"
   ]
  },
  {
   "cell_type": "markdown",
   "id": "5b3c6806",
   "metadata": {},
   "source": [
    "# Comprasion Operator"
   ]
  },
  {
   "cell_type": "code",
   "execution_count": 14,
   "id": "25afe017",
   "metadata": {},
   "outputs": [
    {
     "name": "stdout",
     "output_type": "stream",
     "text": [
      "True\n"
     ]
    }
   ],
   "source": [
    "# Equal to equal to operator\n",
    "x = 5\n",
    "y = 5\n",
    "print(x==y)"
   ]
  },
  {
   "cell_type": "code",
   "execution_count": 15,
   "id": "0c24435e",
   "metadata": {},
   "outputs": [
    {
     "name": "stdout",
     "output_type": "stream",
     "text": [
      "True\n"
     ]
    }
   ],
   "source": [
    "# Not equal to operator\n",
    "x = 5\n",
    "y = 3\n",
    "print(x!=y)"
   ]
  },
  {
   "cell_type": "code",
   "execution_count": 18,
   "id": "e2cc94ce",
   "metadata": {},
   "outputs": [
    {
     "name": "stdout",
     "output_type": "stream",
     "text": [
      "True\n"
     ]
    }
   ],
   "source": [
    "# Greater than equal to operator\n",
    "x = 5\n",
    "y = 3\n",
    "print(x>=y)"
   ]
  },
  {
   "cell_type": "markdown",
   "id": "1ca7549a",
   "metadata": {},
   "source": [
    "# Logical operator"
   ]
  },
  {
   "cell_type": "code",
   "execution_count": 19,
   "id": "b8104e2e",
   "metadata": {},
   "outputs": [
    {
     "name": "stdout",
     "output_type": "stream",
     "text": [
      "False\n"
     ]
    }
   ],
   "source": [
    "# And operator\n",
    "\n",
    "x = 5\n",
    "print(x>3 and x<3)"
   ]
  },
  {
   "cell_type": "code",
   "execution_count": 22,
   "id": "c2999a48",
   "metadata": {},
   "outputs": [
    {
     "name": "stdout",
     "output_type": "stream",
     "text": [
      "True\n"
     ]
    }
   ],
   "source": [
    "# or operator\n",
    "\n",
    "x = 5\n",
    "print(x>3 or x<4)"
   ]
  },
  {
   "cell_type": "markdown",
   "id": "4577fb48",
   "metadata": {},
   "source": [
    "# Identity Operator"
   ]
  },
  {
   "cell_type": "code",
   "execution_count": 24,
   "id": "cb469935",
   "metadata": {},
   "outputs": [
    {
     "name": "stdout",
     "output_type": "stream",
     "text": [
      "False\n"
     ]
    }
   ],
   "source": [
    "# is operator\n",
    "\n",
    "x = [\"Apple\", \"Mango\"]\n",
    "y = [\"Apple\", \"Mango\"]\n",
    "z = x\n",
    "print(x is y)# the object is not matching that why its give false\n",
    "print(x is z)"
   ]
  },
  {
   "cell_type": "markdown",
   "id": "71a5ed35",
   "metadata": {},
   "source": [
    "# Membership Operators\n"
   ]
  },
  {
   "cell_type": "code",
   "execution_count": 27,
   "id": "8f3e9991",
   "metadata": {},
   "outputs": [
    {
     "name": "stdout",
     "output_type": "stream",
     "text": [
      "False\n",
      "True\n"
     ]
    }
   ],
   "source": [
    "x = [\"Apple\",\"Mango\"]\n",
    "print(\"banana\"in x)\n",
    "# print(\"graps\" not in x)\n",
    "\n"
   ]
  },
  {
   "cell_type": "code",
   "execution_count": 28,
   "id": "bfa4f7f2",
   "metadata": {},
   "outputs": [
    {
     "name": "stdout",
     "output_type": "stream",
     "text": [
      "True\n"
     ]
    }
   ],
   "source": [
    "x = [\"Apple\",\"Mango\"]\n",
    "print(\"pineapple\"not in x)\n"
   ]
  },
  {
   "cell_type": "markdown",
   "id": "98f0c57f",
   "metadata": {},
   "source": [
    "# Operator Precedence"
   ]
  },
  {
   "cell_type": "code",
   "execution_count": 33,
   "id": "1e95e2db",
   "metadata": {},
   "outputs": [
    {
     "name": "stdout",
     "output_type": "stream",
     "text": [
      "value : 90.0\n",
      "value of y : 90.0\n",
      "value of z : 50.0\n"
     ]
    }
   ],
   "source": [
    "a = 20\n",
    "b = 10\n",
    "c = 15\n",
    "d = 5\n",
    "\n",
    "\n",
    "x = (a+b)*c/d               #(30*15)/5\n",
    "print(\"value of x :\",x)\n",
    "\n",
    "\n",
    "y = ((a+b)*c)/d              #(30*15)/5 \n",
    "print (\"value of y :\",y)\n",
    "\n",
    "\n",
    "z = a+(b*c)/d                 #20+(150/5)\n",
    "print(\"value of z :\" ,z)"
   ]
  },
  {
   "cell_type": "code",
   "execution_count": null,
   "id": "50a55d2c",
   "metadata": {},
   "outputs": [],
   "source": []
  }
 ],
 "metadata": {
  "kernelspec": {
   "display_name": "Python 3 (ipykernel)",
   "language": "python",
   "name": "python3"
  },
  "language_info": {
   "codemirror_mode": {
    "name": "ipython",
    "version": 3
   },
   "file_extension": ".py",
   "mimetype": "text/x-python",
   "name": "python",
   "nbconvert_exporter": "python",
   "pygments_lexer": "ipython3",
   "version": "3.9.12"
  }
 },
 "nbformat": 4,
 "nbformat_minor": 5
}
