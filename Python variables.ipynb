{
 "cells": [
  {
   "cell_type": "markdown",
   "id": "b8033c18",
   "metadata": {},
   "source": [
    "# Creating a variable"
   ]
  },
  {
   "cell_type": "code",
   "execution_count": 11,
   "id": "8d8d09cd",
   "metadata": {},
   "outputs": [
    {
     "name": "stdout",
     "output_type": "stream",
     "text": [
      "10\n",
      "<class 'int'>\n",
      "10.5\n",
      "<class 'float'>\n",
      "python\n",
      "<class 'str'>\n",
      "[1, 2, 3, 4, 5, 6]\n",
      "<class 'list'>\n",
      "(1, 2, 3, 4, 5, 6)\n",
      "<class 'tuple'>\n"
     ]
    }
   ],
   "source": [
    "# integer value to the variable\n",
    "a = 10 \n",
    "print(a)\n",
    "\n",
    "print(type(a))\n",
    "\n",
    "# Float value to the variable\n",
    "b = 10.5\n",
    "print(b)\n",
    "print(type(b))\n",
    "\n",
    "# string value to the variable\n",
    "c = \"python\"\n",
    "print(c)\n",
    "print(type(c))\n",
    "\n",
    "# list store in  variable\n",
    "l1 = [1,2,3,4,5,6]\n",
    "print(l1)\n",
    "print(type(l1))\n",
    "\n",
    "# Tuple store in variable\n",
    "t1 = (1,2,3,4,5,6)\n",
    "print(t1)\n",
    "print(type(t1))"
   ]
  },
  {
   "cell_type": "markdown",
   "id": "20caa294",
   "metadata": {},
   "source": [
    "# Type coversion"
   ]
  },
  {
   "cell_type": "code",
   "execution_count": 15,
   "id": "ea675cfd",
   "metadata": {},
   "outputs": [
    {
     "name": "stdout",
     "output_type": "stream",
     "text": [
      "Enter the value of A : 11\n",
      "A :  11\n",
      "<class 'int'>\n"
     ]
    }
   ],
   "source": [
    "# Converting from one datatype to another type is called \n",
    "# types conversion/type casting.\n",
    "\n",
    "a = int(input(\"Enter the value of A : \"))\n",
    "print(\"A : \" ,a)\n",
    "print(type(a))"
   ]
  },
  {
   "cell_type": "code",
   "execution_count": null,
   "id": "a46ceb01",
   "metadata": {},
   "outputs": [],
   "source": []
  }
 ],
 "metadata": {
  "kernelspec": {
   "display_name": "Python 3 (ipykernel)",
   "language": "python",
   "name": "python3"
  },
  "language_info": {
   "codemirror_mode": {
    "name": "ipython",
    "version": 3
   },
   "file_extension": ".py",
   "mimetype": "text/x-python",
   "name": "python",
   "nbconvert_exporter": "python",
   "pygments_lexer": "ipython3",
   "version": "3.9.12"
  }
 },
 "nbformat": 4,
 "nbformat_minor": 5
}
