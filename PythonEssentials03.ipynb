{
  "nbformat": 4,
  "nbformat_minor": 0,
  "metadata": {
    "colab": {
      "name": "PythonEssentials03.ipynb",
      "provenance": [],
      "authorship_tag": "ABX9TyMQYXUAZisXtG71e3jRV+fX",
      "include_colab_link": true
    },
    "kernelspec": {
      "name": "python3",
      "display_name": "Python 3"
    },
    "language_info": {
      "name": "python"
    }
  },
  "cells": [
    {
      "cell_type": "markdown",
      "metadata": {
        "id": "view-in-github",
        "colab_type": "text"
      },
      "source": [
        "<a href=\"https://colab.research.google.com/github/Surajvairale/Python_Fundamentals_5_6_22/blob/main/PythonEssentials03.ipynb\" target=\"_parent\"><img src=\"https://colab.research.google.com/assets/colab-badge.svg\" alt=\"Open In Colab\"/></a>"
      ]
    },
    {
      "cell_type": "code",
      "execution_count": 18,
      "metadata": {
        "id": "B3rFcocHxgDb"
      },
      "outputs": [],
      "source": [
        "lst1 = [\"suraj\",\"vikas\",\"alex\",\"mandar\",\"fucker\"]\n",
        "lst = [\"hey\",\"had lunch\",\"good evening\",\"good night\"]"
      ]
    },
    {
      "cell_type": "code",
      "source": [
        "for x in lst1:\n",
        "  print(x)"
      ],
      "metadata": {
        "colab": {
          "base_uri": "https://localhost:8080/"
        },
        "id": "aE5uDmbU0PGj",
        "outputId": "d3771311-728a-45e5-9b48-3f2530573d68"
      },
      "execution_count": 19,
      "outputs": [
        {
          "output_type": "stream",
          "name": "stdout",
          "text": [
            "suraj\n",
            "vikas\n",
            "alex\n",
            "mandar\n",
            "fucker\n"
          ]
        }
      ]
    },
    {
      "cell_type": "code",
      "source": [
        "for x in lst1:\n",
        "  for y in lst:\n",
        "    print(x,\"  \", y)"
      ],
      "metadata": {
        "colab": {
          "base_uri": "https://localhost:8080/"
        },
        "id": "JWACNtgN0TDW",
        "outputId": "73e5a83e-7e46-424c-c74c-81e5c89bd681"
      },
      "execution_count": 20,
      "outputs": [
        {
          "output_type": "stream",
          "name": "stdout",
          "text": [
            "suraj    hey\n",
            "suraj    had lunch\n",
            "suraj    good evening\n",
            "suraj    good night\n",
            "vikas    hey\n",
            "vikas    had lunch\n",
            "vikas    good evening\n",
            "vikas    good night\n",
            "alex    hey\n",
            "alex    had lunch\n",
            "alex    good evening\n",
            "alex    good night\n",
            "mandar    hey\n",
            "mandar    had lunch\n",
            "mandar    good evening\n",
            "mandar    good night\n",
            "fucker    hey\n",
            "fucker    had lunch\n",
            "fucker    good evening\n",
            "fucker    good night\n"
          ]
        }
      ]
    },
    {
      "cell_type": "code",
      "source": [
        "for x in lst:\n",
        "  print(x)\n",
        "else:\n",
        "  print(\"Done with for loop, now in else block\")"
      ],
      "metadata": {
        "colab": {
          "base_uri": "https://localhost:8080/"
        },
        "id": "PSnMGRXN04vd",
        "outputId": "722f4cd4-288d-4bfc-d1b0-e1c3a204f6a4"
      },
      "execution_count": 21,
      "outputs": [
        {
          "output_type": "stream",
          "name": "stdout",
          "text": [
            "hey\n",
            "had lunch\n",
            "good evening\n",
            "good night\n",
            "Done with for loop, now in else block\n"
          ]
        }
      ]
    },
    {
      "cell_type": "code",
      "source": [
        "x = 1\n",
        "\n",
        "while x<10:\n",
        "  print(x)\n",
        "  x = x + 1\n",
        "else:\n",
        "  print(\"This is the else block suraj\")"
      ],
      "metadata": {
        "colab": {
          "base_uri": "https://localhost:8080/"
        },
        "id": "4y69qc1p3Q0V",
        "outputId": "2a061377-3a2e-4f30-f68b-e83007d2f891"
      },
      "execution_count": 27,
      "outputs": [
        {
          "output_type": "stream",
          "name": "stdout",
          "text": [
            "1\n",
            "2\n",
            "3\n",
            "4\n",
            "5\n",
            "6\n",
            "7\n",
            "8\n",
            "9\n",
            "This is the else block suraj\n"
          ]
        }
      ]
    },
    {
      "cell_type": "code",
      "source": [
        "a = input(\"please enter some word - \")"
      ],
      "metadata": {
        "colab": {
          "base_uri": "https://localhost:8080/"
        },
        "id": "9w62i0Ma437u",
        "outputId": "818531d4-b6ce-409e-bd60-ffbc1b47350f"
      },
      "execution_count": 28,
      "outputs": [
        {
          "name": "stdout",
          "output_type": "stream",
          "text": [
            "please enter some word - alex\n"
          ]
        }
      ]
    },
    {
      "cell_type": "code",
      "source": [
        "a"
      ],
      "metadata": {
        "colab": {
          "base_uri": "https://localhost:8080/",
          "height": 36
        },
        "id": "yIvkIamq56Mc",
        "outputId": "df29058f-8942-4536-cb44-ddbc8bd6ec0f"
      },
      "execution_count": 29,
      "outputs": [
        {
          "output_type": "execute_result",
          "data": {
            "text/plain": [
              "'alex'"
            ],
            "application/vnd.google.colaboratory.intrinsic+json": {
              "type": "string"
            }
          },
          "metadata": {},
          "execution_count": 29
        }
      ]
    },
    {
      "cell_type": "code",
      "source": [
        "a = input (\"please enter numnber - \")"
      ],
      "metadata": {
        "colab": {
          "base_uri": "https://localhost:8080/"
        },
        "id": "w3k0vn1m59Ug",
        "outputId": "fe4ceca3-7572-4615-baa0-492207a2b22f"
      },
      "execution_count": 30,
      "outputs": [
        {
          "name": "stdout",
          "output_type": "stream",
          "text": [
            "please enter numnber - 5\n"
          ]
        }
      ]
    },
    {
      "cell_type": "code",
      "source": [
        "a"
      ],
      "metadata": {
        "colab": {
          "base_uri": "https://localhost:8080/",
          "height": 36
        },
        "id": "NGGPIAh86MaQ",
        "outputId": "5e6ce8a7-a204-432f-9565-4408493dfac1"
      },
      "execution_count": 31,
      "outputs": [
        {
          "output_type": "execute_result",
          "data": {
            "text/plain": [
              "'5'"
            ],
            "application/vnd.google.colaboratory.intrinsic+json": {
              "type": "string"
            }
          },
          "metadata": {},
          "execution_count": 31
        }
      ]
    },
    {
      "cell_type": "code",
      "source": [
        "a = int(input(\"please enter numbe - \"))"
      ],
      "metadata": {
        "colab": {
          "base_uri": "https://localhost:8080/"
        },
        "id": "LMSKcBaD6PML",
        "outputId": "d8c2dd31-27f1-4c74-94e3-11f2765bfcb0"
      },
      "execution_count": 33,
      "outputs": [
        {
          "name": "stdout",
          "output_type": "stream",
          "text": [
            "please enter numbe - 8\n"
          ]
        }
      ]
    },
    {
      "cell_type": "code",
      "source": [
        "a\n"
      ],
      "metadata": {
        "colab": {
          "base_uri": "https://localhost:8080/"
        },
        "id": "WW9Xss_G69Ej",
        "outputId": "93a16778-48f8-4112-d4be-6eb98925018e"
      },
      "execution_count": 34,
      "outputs": [
        {
          "output_type": "execute_result",
          "data": {
            "text/plain": [
              "8"
            ]
          },
          "metadata": {},
          "execution_count": 34
        }
      ]
    },
    {
      "cell_type": "code",
      "source": [
        "type(a)"
      ],
      "metadata": {
        "colab": {
          "base_uri": "https://localhost:8080/"
        },
        "id": "kQATbEQK7BHZ",
        "outputId": "699cc574-3ab3-41de-881c-3fda620407b6"
      },
      "execution_count": 35,
      "outputs": [
        {
          "output_type": "execute_result",
          "data": {
            "text/plain": [
              "int"
            ]
          },
          "metadata": {},
          "execution_count": 35
        }
      ]
    },
    {
      "cell_type": "code",
      "source": [
        "password = \"\"\n",
        "\n",
        "while password != \"suraj\":\n",
        "  password = input(\"Enter your password- \")\n",
        "else:\n",
        "  print(\"hey you got right password\")\n"
      ],
      "metadata": {
        "colab": {
          "base_uri": "https://localhost:8080/"
        },
        "id": "P4jVWSpn7DlX",
        "outputId": "c5c5bd4e-6442-41ba-fe82-e25e0a4952e0"
      },
      "execution_count": 38,
      "outputs": [
        {
          "output_type": "stream",
          "name": "stdout",
          "text": [
            "Enter your password- alex\n",
            "Enter your password- suraj\n",
            "hey you got right password\n"
          ]
        }
      ]
    },
    {
      "cell_type": "code",
      "source": [
        "fl = open(\"ourFile.txt\",'w')\n",
        "fl.write(\"hey this is suraj\")\n",
        "fl.write(\"\\n how are you all?\")\n",
        "fl.write(\"\\n hope your health is fine?\")\n",
        "fl.close()"
      ],
      "metadata": {
        "id": "1yVCmzV67pu4"
      },
      "execution_count": 40,
      "outputs": []
    },
    {
      "cell_type": "code",
      "source": [
        "fl = open(\"ourFile.txt\",'r')\n",
        "print(fl.read())\n",
        "fl.close"
      ],
      "metadata": {
        "colab": {
          "base_uri": "https://localhost:8080/"
        },
        "id": "4H65CO1jBndN",
        "outputId": "34778e4c-c746-401f-be99-b25ea141a06e"
      },
      "execution_count": 41,
      "outputs": [
        {
          "output_type": "stream",
          "name": "stdout",
          "text": [
            "hey this is suraj\n",
            " how are you all?\n",
            " hope your health is fine?\n"
          ]
        },
        {
          "output_type": "execute_result",
          "data": {
            "text/plain": [
              "<function TextIOWrapper.close>"
            ]
          },
          "metadata": {},
          "execution_count": 41
        }
      ]
    },
    {
      "cell_type": "code",
      "source": [
        "fl = open(\"ourFile.txt\",'a')\n",
        "fl.write(\"\\n Hey this is the added line , love you all\")\n",
        "fl.close()"
      ],
      "metadata": {
        "id": "GXHmjz_dDJGg"
      },
      "execution_count": 42,
      "outputs": []
    },
    {
      "cell_type": "code",
      "source": [
        "fl = open(\"ourFile.txt\",'r')\n",
        "print(fl.read())\n",
        "fl.close"
      ],
      "metadata": {
        "colab": {
          "base_uri": "https://localhost:8080/"
        },
        "id": "fOBtQ34BDf79",
        "outputId": "595790e0-a3f2-45b1-e15c-f3e8065bb468"
      },
      "execution_count": 43,
      "outputs": [
        {
          "output_type": "stream",
          "name": "stdout",
          "text": [
            "hey this is suraj\n",
            " how are you all?\n",
            " hope your health is fine?\n",
            " Hey this is the added line , love you all\n"
          ]
        },
        {
          "output_type": "execute_result",
          "data": {
            "text/plain": [
              "<function TextIOWrapper.close>"
            ]
          },
          "metadata": {},
          "execution_count": 43
        }
      ]
    },
    {
      "cell_type": "code",
      "source": [
        ""
      ],
      "metadata": {
        "id": "Bbk06rzkDo3b"
      },
      "execution_count": null,
      "outputs": []
    }
  ]
}