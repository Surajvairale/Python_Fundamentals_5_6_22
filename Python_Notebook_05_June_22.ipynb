{
 "cells": [
  {
   "cell_type": "markdown",
   "id": "264d9d93",
   "metadata": {},
   "source": [
    "# Keywords and Identifiers"
   ]
  },
  {
   "cell_type": "code",
   "execution_count": 14,
   "id": "c8fe6758",
   "metadata": {},
   "outputs": [
    {
     "name": "stdout",
     "output_type": "stream",
     "text": [
      "20\n",
      "40\n",
      "10\n"
     ]
    }
   ],
   "source": [
    "# Keywords and Identifiers\n",
    "\n",
    "Aa = 20\n",
    "print(Aa)\n",
    "\n",
    "Ab = 40\n",
    "print(Ab)\n",
    "\n",
    "_Name = 10\n",
    "print(_Name)"
   ]
  },
  {
   "cell_type": "markdown",
   "id": "05851e8a",
   "metadata": {},
   "source": [
    "# Arthmetic Operation\n"
   ]
  },
  {
   "cell_type": "code",
   "execution_count": 15,
   "id": "84fd4c7e",
   "metadata": {},
   "outputs": [
    {
     "name": "stdout",
     "output_type": "stream",
     "text": [
      "15\n",
      "5\n",
      "50\n",
      "15\n",
      "2.0\n",
      "0\n",
      "100000\n"
     ]
    }
   ],
   "source": [
    "print(10+5)\n",
    "print(10-5)\n",
    "print(10*5)\n",
    "print(10+5)\n",
    "print(10/5)\n",
    "print(10%5) # Modulas - reminder\n",
    "print(10**5) # e to the power\n"
   ]
  },
  {
   "cell_type": "markdown",
   "id": "d3481ca5",
   "metadata": {},
   "source": [
    "# Assignment Operation\n"
   ]
  },
  {
   "cell_type": "code",
   "execution_count": 21,
   "id": "7962bf47",
   "metadata": {},
   "outputs": [
    {
     "name": "stdout",
     "output_type": "stream",
     "text": [
      "10\n",
      "20\n",
      "10\n",
      "100\n",
      "10.0\n",
      "0.0\n"
     ]
    }
   ],
   "source": [
    "a = 10\n",
    "print(a)\n",
    "\n",
    "a += 10\n",
    "print(a)\n",
    "\n",
    "a -=10\n",
    "print(a)\n",
    "\n",
    "a *= 10\n",
    "print(a)\n",
    "\n",
    "a /= 10\n",
    "print(a)\n",
    "\n",
    "a %= 10\n",
    "print(a)\n",
    "\n"
   ]
  },
  {
   "cell_type": "markdown",
   "id": "90f70e9d",
   "metadata": {},
   "source": [
    "# Camparison Operators\n"
   ]
  },
  {
   "cell_type": "code",
   "execution_count": 29,
   "id": "8ec838ea",
   "metadata": {},
   "outputs": [
    {
     "name": "stdout",
     "output_type": "stream",
     "text": [
      "False\n",
      "True\n",
      "False\n",
      "True\n",
      "False\n",
      "True\n",
      "False\n"
     ]
    }
   ],
   "source": [
    "print(10 ==  20)\n",
    "print(10 != 20)\n",
    "print(10 > 20)\n",
    "print(10 < 20)\n",
    "print(10 >=20)\n",
    "print(10 <=20)\n",
    "\n",
    "a = (10 == 20)\n",
    "print(a)"
   ]
  },
  {
   "cell_type": "markdown",
   "id": "7dad8fe1",
   "metadata": {},
   "source": [
    "# Logical ( and , or , not) : Check for a Logical condition"
   ]
  },
  {
   "cell_type": "code",
   "execution_count": 31,
   "id": "ddb3e3d4",
   "metadata": {},
   "outputs": [
    {
     "name": "stdout",
     "output_type": "stream",
     "text": [
      "True\n",
      "True\n",
      "False\n"
     ]
    }
   ],
   "source": [
    "print(10 < 50 and 20 < 100)\n",
    "print(10 < 50 or 200 < 100)\n",
    "print(not(10 < 50) )"
   ]
  },
  {
   "cell_type": "markdown",
   "id": "f0d65647",
   "metadata": {},
   "source": [
    "# Identity : Check if they are some objects or not - Memory Location ( is and Isnot )"
   ]
  },
  {
   "cell_type": "code",
   "execution_count": 37,
   "id": "3c182ee4",
   "metadata": {},
   "outputs": [
    {
     "name": "stdout",
     "output_type": "stream",
     "text": [
      "True\n",
      "False\n",
      "True\n",
      "2850636452416\n",
      "2850654012928\n",
      "2850636452416\n"
     ]
    }
   ],
   "source": [
    "a = [1,2,3,4]\n",
    "b = [1,2,3,4]\n",
    "c = a\n",
    "\n",
    "print(a is c)\n",
    "\n",
    "print(a is b)\n",
    "\n",
    "print(a == b)\n",
    "\n",
    "print(id(a))\n",
    "print(id(b))\n",
    "print(id(c))"
   ]
  },
  {
   "cell_type": "markdown",
   "id": "6fe6d909",
   "metadata": {},
   "source": [
    "# Membership ( IN and NOT IN ) Check if a sequence is present in an object"
   ]
  },
  {
   "cell_type": "code",
   "execution_count": 40,
   "id": "bcdbfa9f",
   "metadata": {},
   "outputs": [
    {
     "name": "stdout",
     "output_type": "stream",
     "text": [
      "True\n",
      "False\n"
     ]
    }
   ],
   "source": [
    "a = [1,2,3,4,5,6,7,8]\n",
    "print(3 in a)\n",
    "print(3 not in a)\n"
   ]
  },
  {
   "cell_type": "markdown",
   "id": "a2d6f1b8",
   "metadata": {},
   "source": [
    "# Number AND String"
   ]
  },
  {
   "cell_type": "code",
   "execution_count": 49,
   "id": "f9d4be7e",
   "metadata": {},
   "outputs": [
    {
     "name": "stdout",
     "output_type": "stream",
     "text": [
      "<class 'int'>\n",
      "<class 'float'>\n",
      "<class 'complex'>\n",
      "<class 'str'>\n",
      "<class 'str'>\n",
      "<class 'str'>\n"
     ]
    }
   ],
   "source": [
    "print(type(10))\n",
    "print(type(10.1234))\n",
    "print(type(10+2000j))\n",
    "####################\n",
    "print(type(\"Suraj\"))\n",
    "print(type(\"ALEX\"))\n",
    "print(type(\"PATIL\"))"
   ]
  },
  {
   "cell_type": "markdown",
   "id": "b1125944",
   "metadata": {},
   "source": [
    "# Create 3 variables assign a integer , float and string to them and check their type"
   ]
  },
  {
   "cell_type": "code",
   "execution_count": 54,
   "id": "0ec99246",
   "metadata": {},
   "outputs": [
    {
     "name": "stdout",
     "output_type": "stream",
     "text": [
      "<class 'int'>\n",
      "<class 'float'>\n",
      "<class 'str'>\n"
     ]
    }
   ],
   "source": [
    "a = 10\n",
    "b = 20.98\n",
    "c = 'suraj'\n",
    "\n",
    "print(type(a))\n",
    "print(type(b))\n",
    "print(type(c))"
   ]
  },
  {
   "cell_type": "markdown",
   "id": "973745be",
   "metadata": {},
   "source": [
    "# List : Mutable"
   ]
  },
  {
   "cell_type": "code",
   "execution_count": 57,
   "id": "8001e260",
   "metadata": {},
   "outputs": [
    {
     "name": "stdout",
     "output_type": "stream",
     "text": [
      "[1, 2, 3, 4]\n",
      "<class 'list'>\n"
     ]
    }
   ],
   "source": [
    "a = [1,2,3,4]\n",
    "print(a)\n",
    "print(type(a))\n"
   ]
  },
  {
   "cell_type": "markdown",
   "id": "6fd838fb",
   "metadata": {},
   "source": [
    "# Tuple : Immutable\n"
   ]
  },
  {
   "cell_type": "code",
   "execution_count": 60,
   "id": "0fe51090",
   "metadata": {},
   "outputs": [
    {
     "name": "stdout",
     "output_type": "stream",
     "text": [
      "(1, 2, 3, 4)\n",
      "<class 'tuple'>\n"
     ]
    }
   ],
   "source": [
    "a = (1,2,3,4)\n",
    "print(a)\n",
    "print(type(a))"
   ]
  },
  {
   "cell_type": "markdown",
   "id": "2e2cb511",
   "metadata": {},
   "source": [
    "# SET : unordered and no duplicates : Immutable : NO indexing\n"
   ]
  },
  {
   "cell_type": "code",
   "execution_count": 65,
   "id": "29511b9d",
   "metadata": {},
   "outputs": [
    {
     "name": "stdout",
     "output_type": "stream",
     "text": [
      "{1, 2, 3, 4, 5, 6, 99, 8, 78, 88}\n",
      "<class 'set'>\n"
     ]
    }
   ],
   "source": [
    "a = {1,2,3,4,5,6,78,8,8,88,99}\n",
    "print(a)\n",
    "print(type(a))\n"
   ]
  },
  {
   "cell_type": "markdown",
   "id": "874a4e59",
   "metadata": {},
   "source": [
    "## Dictionary : Key Value pair"
   ]
  },
  {
   "cell_type": "code",
   "execution_count": 69,
   "id": "493452c7",
   "metadata": {},
   "outputs": [
    {
     "name": "stdout",
     "output_type": "stream",
     "text": [
      "{'a': 100, 'b': 200, 'c': 300}\n",
      "<class 'dict'>\n",
      "dict_keys(['a', 'b', 'c'])\n",
      "dict_values([100, 200, 300])\n"
     ]
    }
   ],
   "source": [
    "a = {'a': 100, 'b': 200,'c' : 300 }\n",
    "print(a)\n",
    "print(type(a))\n",
    "\n",
    "print(a.keys())\n",
    "print(a.values())"
   ]
  },
  {
   "cell_type": "markdown",
   "id": "760615ff",
   "metadata": {},
   "source": [
    "# Indexing "
   ]
  },
  {
   "cell_type": "code",
   "execution_count": 72,
   "id": "d9905ef0",
   "metadata": {},
   "outputs": [
    {
     "name": "stdout",
     "output_type": "stream",
     "text": [
      "['I', 'N', 'D']\n",
      "['N', 'D', 'I', 'A']\n",
      "['D', 'I', 'A']\n",
      "['D', 'I', 'A']\n",
      "['N', 'D', 'I', 'A', 'N']\n",
      "['N', 'D', 'I', 'A', 'N']\n"
     ]
    }
   ],
   "source": [
    "a = ['I','N','D','I','A','N']\n",
    "print(a[0:3])\n",
    "print(a[-5:-1])\n",
    "\n",
    "print(a[2:5])\n",
    "print(a[-4:-1])\n",
    "\n",
    "print(a[1: ])\n",
    "print(a[-5: ])"
   ]
  },
  {
   "cell_type": "markdown",
   "id": "753342f5",
   "metadata": {},
   "source": [
    "# Simple mutability and immutability"
   ]
  },
  {
   "cell_type": "code",
   "execution_count": 75,
   "id": "90cb1282",
   "metadata": {},
   "outputs": [
    {
     "name": "stdout",
     "output_type": "stream",
     "text": [
      "300\n",
      "300\n",
      "[100, 200, 9999, 400]\n",
      "[100, 200, 9999, 400]\n"
     ]
    }
   ],
   "source": [
    "a = [100,200,300,400]\n",
    "b = [100,200,300,400]\n",
    "\n",
    "print(a[2])\n",
    "print(b[2])\n",
    "\n",
    "a[2]=9999\n",
    "print(a)\n",
    "\n",
    "b[2]=9999\n",
    "print(b)\n"
   ]
  }
 ],
 "metadata": {
  "kernelspec": {
   "display_name": "Python 3 (ipykernel)",
   "language": "python",
   "name": "python3"
  },
  "language_info": {
   "codemirror_mode": {
    "name": "ipython",
    "version": 3
   },
   "file_extension": ".py",
   "mimetype": "text/x-python",
   "name": "python",
   "nbconvert_exporter": "python",
   "pygments_lexer": "ipython3",
   "version": "3.9.12"
  }
 },
 "nbformat": 4,
 "nbformat_minor": 5
}
