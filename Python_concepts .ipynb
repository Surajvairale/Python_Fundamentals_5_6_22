{
 "cells": [
  {
   "cell_type": "code",
   "execution_count": 1,
   "id": "321d59fb",
   "metadata": {},
   "outputs": [],
   "source": [
    "## comment"
   ]
  },
  {
   "cell_type": "code",
   "execution_count": 2,
   "id": "7bb3a107",
   "metadata": {},
   "outputs": [
    {
     "name": "stdout",
     "output_type": "stream",
     "text": [
      "10\n"
     ]
    }
   ],
   "source": [
    "name = 10\n",
    "print(name)"
   ]
  },
  {
   "cell_type": "code",
   "execution_count": 3,
   "id": "31ffab56",
   "metadata": {},
   "outputs": [
    {
     "name": "stdout",
     "output_type": "stream",
     "text": [
      "10\n"
     ]
    }
   ],
   "source": [
    "Name = 10\n",
    "print(Name)"
   ]
  },
  {
   "cell_type": "code",
   "execution_count": 4,
   "id": "ef5b8e1c",
   "metadata": {},
   "outputs": [
    {
     "name": "stdout",
     "output_type": "stream",
     "text": [
      "10\n"
     ]
    }
   ],
   "source": [
    "_Name = 10\n",
    "print(_Name)"
   ]
  },
  {
   "cell_type": "code",
   "execution_count": 5,
   "id": "97e20d14",
   "metadata": {},
   "outputs": [
    {
     "name": "stdout",
     "output_type": "stream",
     "text": [
      "10\n"
     ]
    }
   ],
   "source": [
    "N123ame = 10\n",
    "print(N123ame)"
   ]
  },
  {
   "cell_type": "code",
   "execution_count": 6,
   "id": "5fc7386c",
   "metadata": {},
   "outputs": [],
   "source": [
    "## operator in python"
   ]
  },
  {
   "cell_type": "code",
   "execution_count": 7,
   "id": "c063ed4f",
   "metadata": {},
   "outputs": [],
   "source": [
    "## Arthmetic operators"
   ]
  },
  {
   "cell_type": "code",
   "execution_count": 8,
   "id": "8b647074",
   "metadata": {},
   "outputs": [
    {
     "name": "stdout",
     "output_type": "stream",
     "text": [
      "15\n",
      "3\n",
      "60\n",
      "2.0\n",
      "0\n",
      "100000\n"
     ]
    }
   ],
   "source": [
    "print(10+5)\n",
    "print(10-7)\n",
    "print(10*6)\n",
    "print(10/5)\n",
    "print(10%5)\n",
    "print(10**5)"
   ]
  },
  {
   "cell_type": "code",
   "execution_count": 9,
   "id": "f2a34396",
   "metadata": {},
   "outputs": [
    {
     "name": "stdout",
     "output_type": "stream",
     "text": [
      "10\n",
      "20\n",
      "10\n",
      "100\n",
      "10.0\n",
      "0.0\n"
     ]
    }
   ],
   "source": [
    "## Assignmnet operators\n",
    "a = 10\n",
    "print(a)\n",
    "\n",
    "a += 10\n",
    "print(a)\n",
    "\n",
    "a -= 10\n",
    "print(a)\n",
    "\n",
    "a *= 10\n",
    "print(a)\n",
    "\n",
    "a /= 10\n",
    "print(a)\n",
    "\n",
    "a %= 10\n",
    "print(a)\n"
   ]
  },
  {
   "cell_type": "code",
   "execution_count": 10,
   "id": "4757fc9c",
   "metadata": {},
   "outputs": [
    {
     "name": "stdout",
     "output_type": "stream",
     "text": [
      "False\n",
      "True\n",
      "False\n",
      "True\n",
      "False\n",
      "True\n"
     ]
    }
   ],
   "source": [
    "##Comparison operators\n",
    "\n",
    "print(10 == 20)\n",
    "print(10!= 20)\n",
    "print(10 > 20)\n",
    "print(10 < 20)\n",
    "print(10 >= 20)\n",
    "print(10 <= 20)"
   ]
  },
  {
   "cell_type": "code",
   "execution_count": 11,
   "id": "856918bd",
   "metadata": {},
   "outputs": [
    {
     "name": "stdout",
     "output_type": "stream",
     "text": [
      "True\n",
      "True\n",
      "False\n"
     ]
    }
   ],
   "source": [
    "## Operators\n",
    "\n",
    "## Logical ( and , or , not )\n",
    "\n",
    "print(10 < 50 and 20 <100)\n",
    "print(10 < 50 or 20 < 100)\n",
    "print(not(10<50))"
   ]
  },
  {
   "cell_type": "code",
   "execution_count": 12,
   "id": "ff95c36c",
   "metadata": {},
   "outputs": [
    {
     "name": "stdout",
     "output_type": "stream",
     "text": [
      "1629921503824\n",
      "1629921503824\n",
      "<class 'list'>\n",
      "[10]\n",
      "False\n",
      "False\n",
      "True\n",
      "True\n",
      "1627861274496\n",
      "1627861274240\n",
      "1627861274496\n"
     ]
    }
   ],
   "source": [
    "## Identify : Check if they are same object or not - Memory Location\n",
    "a = 10\n",
    "print(id(a))\n",
    "\n",
    "b = 10\n",
    "print(id(b))\n",
    "\n",
    "a =[10]\n",
    "print(type(a))\n",
    "c = a.copy()\n",
    "print(c)\n",
    "\n",
    "print(a is b)\n",
    "print(a is c)\n",
    "\n",
    "a = [1,2,3]\n",
    "b = [1,2,3]\n",
    "c = a\n",
    "print(a is c)\n",
    "\n",
    "print((a==b))\n",
    "\n",
    "print(id(a))\n",
    "print(id(b))\n",
    "print(id(c))\n"
   ]
  },
  {
   "cell_type": "code",
   "execution_count": 13,
   "id": "1f3d7cb2",
   "metadata": {},
   "outputs": [
    {
     "name": "stdout",
     "output_type": "stream",
     "text": [
      "True\n",
      "False\n"
     ]
    }
   ],
   "source": [
    "## Membership\n",
    "\n",
    "a = [1,2,3,4,5,7,8]\n",
    "\n",
    "print(3 in a)\n",
    "print(3 not in a)"
   ]
  },
  {
   "cell_type": "code",
   "execution_count": 14,
   "id": "2f953a84",
   "metadata": {},
   "outputs": [
    {
     "name": "stdout",
     "output_type": "stream",
     "text": [
      "123\n"
     ]
    }
   ],
   "source": [
    "## variables\n",
    "\n",
    "a = 10\n",
    "suraj =100\n",
    "alex = 999\n",
    "lola = 123\n",
    "print(lola)"
   ]
  },
  {
   "cell_type": "code",
   "execution_count": 15,
   "id": "0afbe352",
   "metadata": {},
   "outputs": [
    {
     "name": "stdout",
     "output_type": "stream",
     "text": [
      "<class 'int'>\n",
      "<class 'float'>\n",
      "<class 'complex'>\n"
     ]
    }
   ],
   "source": [
    "## Number\n",
    "print(type(10))\n",
    "print(type(10.23))\n",
    "print(type(123j))"
   ]
  },
  {
   "cell_type": "code",
   "execution_count": 16,
   "id": "d6335f5e",
   "metadata": {},
   "outputs": [
    {
     "name": "stdout",
     "output_type": "stream",
     "text": [
      "<class 'str'>\n"
     ]
    }
   ],
   "source": [
    "## String : Anything with in double and single qoutes\n",
    "print(type(\"alex\"))"
   ]
  },
  {
   "cell_type": "code",
   "execution_count": 17,
   "id": "72f0c2e6",
   "metadata": {},
   "outputs": [
    {
     "name": "stdout",
     "output_type": "stream",
     "text": [
      "<class 'int'>\n",
      "<class 'float'>\n",
      "<class 'str'>\n"
     ]
    }
   ],
   "source": [
    "a = 10\n",
    "b = 12.88\n",
    "c = \"alex\"\n",
    "\n",
    "print(type(a))\n",
    "print(type(b))\n",
    "print(type(c))"
   ]
  },
  {
   "cell_type": "code",
   "execution_count": 18,
   "id": "84e82558",
   "metadata": {},
   "outputs": [
    {
     "name": "stdout",
     "output_type": "stream",
     "text": [
      "<class 'list'>\n"
     ]
    }
   ],
   "source": [
    "## List : Mutable Collection of Object\n",
    "\n",
    "a = [1,2,3]\n",
    "print(type(a))"
   ]
  },
  {
   "cell_type": "code",
   "execution_count": 19,
   "id": "2aeb3144",
   "metadata": {},
   "outputs": [
    {
     "name": "stdout",
     "output_type": "stream",
     "text": [
      "<class 'tuple'>\n"
     ]
    }
   ],
   "source": [
    "## Tuple : immutable\n",
    "\n",
    "a = (1,2,3)\n",
    "print(type(a))"
   ]
  },
  {
   "cell_type": "code",
   "execution_count": 20,
   "id": "5aebef1a",
   "metadata": {},
   "outputs": [
    {
     "name": "stdout",
     "output_type": "stream",
     "text": [
      "{1, 2, 3, 4, 5, 6, 7, 8, 9, 10, 20}\n",
      "<class 'set'>\n"
     ]
    }
   ],
   "source": [
    "## Set : Unordered and no duplicates :Immutable : no indexing\n",
    "a = {10,20,1,2,3,4,5,6,7,8,9,4,4,4,4}\n",
    "print(a)\n",
    "print(type(a))\n"
   ]
  },
  {
   "cell_type": "code",
   "execution_count": 21,
   "id": "73573d85",
   "metadata": {},
   "outputs": [
    {
     "name": "stdout",
     "output_type": "stream",
     "text": [
      "<class 'dict'>\n",
      "dict_keys(['a', 'b', 'c'])\n",
      "dict_values([10, 20, 30])\n"
     ]
    }
   ],
   "source": [
    "## Dictionary : key value pair\n",
    "\n",
    "a = {'a':10,'b':20,'c':30}\n",
    "print(type(a))\n",
    "print(a.keys())\n",
    "print(a.values())"
   ]
  },
  {
   "cell_type": "code",
   "execution_count": 22,
   "id": "10bf5a40",
   "metadata": {},
   "outputs": [
    {
     "name": "stdout",
     "output_type": "stream",
     "text": [
      "['I', 'N', 'D']\n",
      "['D', 'I', 'A']\n",
      "['N', 'D', 'I', 'A', 'N']\n",
      "['N', 'D', 'I']\n"
     ]
    }
   ],
   "source": [
    "## Indexing\n",
    "\n",
    "a = ['I','N','D','I','A','N']\n",
    "\n",
    "#IND\n",
    "print(a[ :3])\n",
    "\n",
    "#DIA\n",
    "print(a[2:5])\n",
    "\n",
    "#NDIAN\n",
    "print(a[1:])\n",
    "\n",
    "#NDI\n",
    "print(a[1:4])"
   ]
  },
  {
   "cell_type": "code",
   "execution_count": 23,
   "id": "2a47e240",
   "metadata": {},
   "outputs": [
    {
     "name": "stdout",
     "output_type": "stream",
     "text": [
      "X lesser than 100\n"
     ]
    }
   ],
   "source": [
    "## Control flow in Python\n",
    "\n",
    "## If condition\n",
    "\n",
    "x = 10\n",
    "\n",
    "if x >= 100:\n",
    "    print(\" X greater than 100\")\n",
    "else:\n",
    "    print(\"X lesser than 100\")"
   ]
  },
  {
   "cell_type": "code",
   "execution_count": 24,
   "id": "5eafa948",
   "metadata": {},
   "outputs": [
    {
     "name": "stdout",
     "output_type": "stream",
     "text": [
      "X is Greater than 100\n"
     ]
    }
   ],
   "source": [
    "## if , elif and else - check if x >= 50 and <=100\n",
    "\n",
    "x = 110\n",
    "\n",
    "if x <=50:\n",
    "    print(\"X Greater than 50\")\n",
    "    \n",
    "elif x <= 75:\n",
    "    print(\"X is less than 75\")\n",
    "    \n",
    "elif x <= 100:\n",
    "    print(\" X is less than 100\")\n",
    "    \n",
    "else:\n",
    "    print(\"X is Greater than 100\")"
   ]
  },
  {
   "cell_type": "code",
   "execution_count": 25,
   "id": "88e7c26a",
   "metadata": {},
   "outputs": [
    {
     "name": "stdout",
     "output_type": "stream",
     "text": [
      "1\n",
      "2\n",
      "3\n",
      "4\n",
      "5\n",
      "6\n",
      "7\n",
      "8\n",
      "9\n",
      "10\n"
     ]
    }
   ],
   "source": [
    "## For loop : it will iterate through a object\n",
    "\n",
    "x = [1,2,3,4,5,6,7,8,9,10]\n",
    "\n",
    "for i in x:\n",
    "    print(i)\n",
    "    \n"
   ]
  },
  {
   "cell_type": "code",
   "execution_count": 26,
   "id": "0401b998",
   "metadata": {},
   "outputs": [
    {
     "name": "stdout",
     "output_type": "stream",
     "text": [
      "1 X  999= 999\n",
      "2 X  999= 1998\n",
      "3 X  999= 2997\n",
      "4 X  999= 3996\n",
      "5 X  999= 4995\n",
      "6 X  999= 5994\n",
      "7 X  999= 6993\n",
      "8 X  999= 7992\n",
      "9 X  999= 8991\n",
      "10 X  999= 9990\n"
     ]
    }
   ],
   "source": [
    "x = [1,2,3,4,5,6,7,8,9,10]\n",
    "\n",
    "for i in x:\n",
    "    print(i , 'X ', '999=',i*999)"
   ]
  },
  {
   "cell_type": "code",
   "execution_count": 27,
   "id": "e6fc8d07",
   "metadata": {},
   "outputs": [
    {
     "name": "stdout",
     "output_type": "stream",
     "text": [
      "1 x  12= 12\n",
      "2 x  12= 24\n",
      "3 x  12= 36\n",
      "4 x  12= 48\n",
      "5 x  12= 60\n",
      "6 x  12= 72\n",
      "7 x  12= 84\n",
      "8 x  12= 96\n",
      "9 x  12= 108\n",
      "10 x  12= 120\n"
     ]
    }
   ],
   "source": [
    "x = [1,2,3,4,5,6,7,8,9,10]\n",
    "\n",
    "for i in x:\n",
    "    print(i , 'x ', '12=',i*12)"
   ]
  },
  {
   "cell_type": "code",
   "execution_count": 28,
   "id": "a8835ddd",
   "metadata": {},
   "outputs": [
    {
     "name": "stdout",
     "output_type": "stream",
     "text": [
      "1\n",
      "2\n",
      "3\n",
      "4\n",
      "5\n",
      "6\n",
      "7\n",
      "8\n",
      "9\n",
      "10\n"
     ]
    }
   ],
   "source": [
    "## While loop : Run as long as the condition is true\n",
    "\n",
    "x = 1\n",
    "\n",
    "while x <= 10:\n",
    "    print(x)\n",
    "    \n",
    "    x = x+1"
   ]
  },
  {
   "cell_type": "code",
   "execution_count": 29,
   "id": "34d41b28",
   "metadata": {},
   "outputs": [
    {
     "name": "stdout",
     "output_type": "stream",
     "text": [
      "2\n",
      "4\n",
      "6\n",
      "8\n",
      "10\n"
     ]
    }
   ],
   "source": [
    "## First 5 even numbers\n",
    "x = [1,2,3,4,5,6,7,8,9,10,11]\n",
    "\n",
    "for i in x:\n",
    "    if i % 2 == 0:\n",
    "        print(i)"
   ]
  },
  {
   "cell_type": "code",
   "execution_count": 30,
   "id": "26180313",
   "metadata": {},
   "outputs": [
    {
     "name": "stdout",
     "output_type": "stream",
     "text": [
      "1\n",
      "2\n",
      "3\n",
      "4\n",
      "5\n",
      "6\n",
      "7\n",
      "8\n"
     ]
    }
   ],
   "source": [
    "## Break \n",
    "\n",
    "x = [1,2,3,4,5,6,7,8,9,10]\n",
    "\n",
    "for i in x:\n",
    "    print(i)\n",
    "    if i == 8:\n",
    "        break\n",
    "        print(\"This is break condition\")\n",
    "    "
   ]
  },
  {
   "cell_type": "code",
   "execution_count": 31,
   "id": "8f3d2403",
   "metadata": {},
   "outputs": [
    {
     "name": "stdout",
     "output_type": "stream",
     "text": [
      "1\n",
      "2\n",
      "3\n",
      "4\n",
      "5\n",
      "6\n",
      "7\n",
      "8\n",
      "this is running........warning \n",
      "9\n",
      "100\n"
     ]
    }
   ],
   "source": [
    "## continue\n",
    "\n",
    "x = [1,2,3,4,5,6,7,8,9,100]\n",
    "\n",
    "for i in x :\n",
    "    print(i)\n",
    "    if i != 8:\n",
    "        continue\n",
    "    print(\"this is running........warning \")"
   ]
  },
  {
   "cell_type": "code",
   "execution_count": 32,
   "id": "d5296403",
   "metadata": {},
   "outputs": [],
   "source": [
    "## pass\\\n",
    "\n",
    "x = [1,2,3,4,5,6,7,8,9,100]\n",
    "\n",
    "def Futuredev():\n",
    "    pass"
   ]
  },
  {
   "cell_type": "code",
   "execution_count": 33,
   "id": "4bd28935",
   "metadata": {},
   "outputs": [],
   "source": [
    "## Function In python\n",
    "\n",
    "def function(args):\n",
    "    print(args* 10)\n",
    "    "
   ]
  },
  {
   "cell_type": "code",
   "execution_count": 34,
   "id": "cb4d17d2",
   "metadata": {},
   "outputs": [
    {
     "name": "stdout",
     "output_type": "stream",
     "text": [
      "30\n"
     ]
    }
   ],
   "source": [
    "function(3)"
   ]
  },
  {
   "cell_type": "code",
   "execution_count": 35,
   "id": "dee84670",
   "metadata": {},
   "outputs": [],
   "source": [
    "def sm (a,b):\n",
    "    \"\"\"This Is Just Comment\"\"\"\n",
    "    smm = a+b\n",
    "    return(smm)"
   ]
  },
  {
   "cell_type": "code",
   "execution_count": 36,
   "id": "a28abc66",
   "metadata": {},
   "outputs": [
    {
     "data": {
      "text/plain": [
       "100"
      ]
     },
     "execution_count": 36,
     "metadata": {},
     "output_type": "execute_result"
    }
   ],
   "source": [
    "sm(10,90)"
   ]
  },
  {
   "cell_type": "code",
   "execution_count": 37,
   "id": "5cb36fb3",
   "metadata": {},
   "outputs": [],
   "source": [
    "## Function to print \" Welcome to Python\"\n",
    "def wcp():\n",
    "    print(\"WELCOME TO Python\")"
   ]
  },
  {
   "cell_type": "code",
   "execution_count": 38,
   "id": "8f32a48e",
   "metadata": {},
   "outputs": [
    {
     "name": "stdout",
     "output_type": "stream",
     "text": [
      "WELCOME TO Python\n"
     ]
    }
   ],
   "source": [
    "wcp()"
   ]
  },
  {
   "cell_type": "code",
   "execution_count": 39,
   "id": "311ac94a",
   "metadata": {},
   "outputs": [],
   "source": [
    "## Function to find the difference of 2 number and print the difference\n",
    "\n",
    "def dn(a,b):\n",
    "    diffnum = a - b\n",
    "    print(\"The Difference between number is \", diffnum)\n",
    "    \n",
    "    "
   ]
  },
  {
   "cell_type": "code",
   "execution_count": 40,
   "id": "83a59186",
   "metadata": {},
   "outputs": [
    {
     "name": "stdout",
     "output_type": "stream",
     "text": [
      "The Difference between number is  8\n"
     ]
    }
   ],
   "source": [
    "dn(10,2)"
   ]
  },
  {
   "cell_type": "code",
   "execution_count": 41,
   "id": "be47bb62",
   "metadata": {},
   "outputs": [],
   "source": [
    "## range function : Generate sequence of number from  a list\n",
    "##range(start,stop,step)"
   ]
  },
  {
   "cell_type": "code",
   "execution_count": 42,
   "id": "974f6940",
   "metadata": {},
   "outputs": [
    {
     "data": {
      "text/plain": [
       "[0, 1, 2, 3, 4, 5, 6, 7, 8, 9]"
      ]
     },
     "execution_count": 42,
     "metadata": {},
     "output_type": "execute_result"
    }
   ],
   "source": [
    "\n",
    "\n",
    "list(range(0,10,1))"
   ]
  },
  {
   "cell_type": "code",
   "execution_count": 43,
   "id": "02941686",
   "metadata": {},
   "outputs": [
    {
     "data": {
      "text/plain": [
       "[0, 5, 10, 15, 20, 25, 30, 35, 40, 45, 50]"
      ]
     },
     "execution_count": 43,
     "metadata": {},
     "output_type": "execute_result"
    }
   ],
   "source": [
    "list(range(0,51,5))"
   ]
  },
  {
   "cell_type": "code",
   "execution_count": 50,
   "id": "c6c45717",
   "metadata": {},
   "outputs": [],
   "source": [
    "## Global variables\n",
    "\n",
    "a = 50 \n",
    "def number():\n",
    "    b = 30\n",
    "    print(b)\n",
    "    print(a)"
   ]
  },
  {
   "cell_type": "code",
   "execution_count": 51,
   "id": "ece09e5c",
   "metadata": {},
   "outputs": [
    {
     "name": "stdout",
     "output_type": "stream",
     "text": [
      "30\n",
      "50\n"
     ]
    }
   ],
   "source": [
    "number()"
   ]
  },
  {
   "cell_type": "code",
   "execution_count": 55,
   "id": "f90c99af",
   "metadata": {},
   "outputs": [],
   "source": [
    "## local variables\n",
    "\n",
    "a = 50\n",
    "def number():\n",
    "    b = 30\n",
    "    print(b)\n",
    "    print(b)"
   ]
  },
  {
   "cell_type": "code",
   "execution_count": 57,
   "id": "e194611c",
   "metadata": {},
   "outputs": [
    {
     "name": "stdout",
     "output_type": "stream",
     "text": [
      "30\n",
      "30\n"
     ]
    }
   ],
   "source": [
    "number()"
   ]
  },
  {
   "cell_type": "code",
   "execution_count": 58,
   "id": "13936942",
   "metadata": {},
   "outputs": [],
   "source": [
    "## Lambda function - Doesnot have name - anonymous\n",
    "\n",
    "def add(a,b):\n",
    "    return(a+b)\n"
   ]
  },
  {
   "cell_type": "code",
   "execution_count": 60,
   "id": "acd75b22",
   "metadata": {},
   "outputs": [
    {
     "data": {
      "text/plain": [
       "30"
      ]
     },
     "execution_count": 60,
     "metadata": {},
     "output_type": "execute_result"
    }
   ],
   "source": [
    "add(10,20)"
   ]
  },
  {
   "cell_type": "code",
   "execution_count": 70,
   "id": "a097e2f3",
   "metadata": {},
   "outputs": [],
   "source": [
    "ad = lambda a,b: a+b"
   ]
  },
  {
   "cell_type": "code",
   "execution_count": 71,
   "id": "a9f5060c",
   "metadata": {},
   "outputs": [
    {
     "data": {
      "text/plain": [
       "30"
      ]
     },
     "execution_count": 71,
     "metadata": {},
     "output_type": "execute_result"
    }
   ],
   "source": [
    "ad(10,20)"
   ]
  },
  {
   "cell_type": "code",
   "execution_count": 73,
   "id": "af41d1d7",
   "metadata": {},
   "outputs": [
    {
     "data": {
      "text/plain": [
       "[30, -10, 200]"
      ]
     },
     "execution_count": 73,
     "metadata": {},
     "output_type": "execute_result"
    }
   ],
   "source": [
    "ml = lambda a,b: [(a+b),(a-b),(a*b)]\n",
    "ml(10,20)"
   ]
  },
  {
   "cell_type": "code",
   "execution_count": 74,
   "id": "54e7f6ed",
   "metadata": {},
   "outputs": [],
   "source": [
    "## Bluit in functions ,package and Modules.\n",
    "\n",
    "## sys Module\n",
    "## modules - sys, os , Math, datetime , Random\n",
    "\n"
   ]
  },
  {
   "cell_type": "code",
   "execution_count": 78,
   "id": "65140549",
   "metadata": {},
   "outputs": [
    {
     "name": "stdout",
     "output_type": "stream",
     "text": [
      "3.9.12 (main, Apr  4 2022, 05:22:27) [MSC v.1916 64 bit (AMD64)]\n",
      "['C:\\\\Users\\\\suraj\\\\anaconda3\\\\lib\\\\site-packages\\\\ipykernel_launcher.py', '-f', 'C:\\\\Users\\\\suraj\\\\AppData\\\\Roaming\\\\jupyter\\\\runtime\\\\kernel-26c3dc74-eb69-429b-98f3-ac656ca5e3b2.json']\n"
     ]
    }
   ],
   "source": [
    "import sys\n",
    "\n",
    "print(sys.version)\n",
    "print(sys.argv)"
   ]
  },
  {
   "cell_type": "code",
   "execution_count": 86,
   "id": "eebef487",
   "metadata": {},
   "outputs": [
    {
     "name": "stdout",
     "output_type": "stream",
     "text": [
      "C:\\Users\\suraj\\PythonTest\n",
      "nt\n",
      "environ({'ACSVCPORT': '17532', 'ALLUSERSPROFILE': 'C:\\\\ProgramData', 'APPDATA': 'C:\\\\Users\\\\suraj\\\\AppData\\\\Roaming', 'COMMONPROGRAMFILES': 'C:\\\\Program Files\\\\Common Files', 'COMMONPROGRAMFILES(X86)': 'C:\\\\Program Files (x86)\\\\Common Files', 'COMMONPROGRAMW6432': 'C:\\\\Program Files\\\\Common Files', 'COMPUTERNAME': 'ALEX', 'COMSPEC': 'C:\\\\WINDOWS\\\\system32\\\\cmd.exe', 'DRIVERDATA': 'C:\\\\Windows\\\\System32\\\\Drivers\\\\DriverData', 'FPS_BROWSER_APP_PROFILE_STRING': 'Internet Explorer', 'FPS_BROWSER_USER_PROFILE_STRING': 'Default', 'HOMEDRIVE': 'C:', 'HOMEPATH': '\\\\Users\\\\suraj', 'JAVA_HOME': 'C:\\\\Program Files\\\\Java\\\\jdk1.8.0_202', 'LOCALAPPDATA': 'C:\\\\Users\\\\suraj\\\\AppData\\\\Local', 'LOGONSERVER': '\\\\\\\\ALEX', 'MAVEN_HOME': 'C:\\\\Program Files\\\\apache-maven-3.8.3-bin\\\\apache-maven-3.8.3', 'NUMBER_OF_PROCESSORS': '16', 'ONEDRIVE': 'C:\\\\Users\\\\suraj\\\\OneDrive', 'OS': 'Windows_NT', 'PATH': 'C:\\\\Users\\\\suraj\\\\anaconda3;C:\\\\Users\\\\suraj\\\\anaconda3\\\\Library\\\\mingw-w64\\\\bin;C:\\\\Users\\\\suraj\\\\anaconda3\\\\Library\\\\usr\\\\bin;C:\\\\Users\\\\suraj\\\\anaconda3\\\\Library\\\\bin;C:\\\\Users\\\\suraj\\\\anaconda3\\\\Scripts;\"C:\\\\Program Files (x86)\\\\Common Files\\\\Oracle\\\\Java\\\\javapathC:\\\\Program Files\\\\Java\\\\jdk1.8.0_202\\\\bin;\";C:\\\\Windows\\\\system32;C:\\\\Windows;C:\\\\Windows\\\\System32\\\\Wbem;C:\\\\Windows\\\\System32\\\\WindowsPowerShell\\\\v1.0\\\\;C:\\\\Windows\\\\System32\\\\OpenSSH\\\\;C:\\\\Program Files (x86)\\\\NVIDIA Corporation\\\\PhysX\\\\Common;C:\\\\Program Files\\\\NVIDIA Corporation\\\\NVIDIA NvDLISR;C:\\\\WINDOWS\\\\system32;C:\\\\WINDOWS;C:\\\\WINDOWS\\\\System32\\\\Wbem;C:\\\\WINDOWS\\\\System32\\\\WindowsPowerShell\\\\v1.0\\\\;C:\\\\WINDOWS\\\\System32\\\\OpenSSH\\\\;C:\\\\Program Files\\\\Java\\\\jdk1.8.0_202\\\\bin;C:\\\\Program Files\\\\apache-maven-3.8.3-bin\\\\apache-maven-3.8.3\\\\bin;C:\\\\Program Files\\\\Git\\\\cmd;C:\\\\Users\\\\suraj\\\\anaconda3;C:\\\\Users\\\\suraj\\\\anaconda3\\\\Library\\\\mingw-w64\\\\bin;C:\\\\Users\\\\suraj\\\\anaconda3\\\\Library\\\\usr\\\\bin;C:\\\\Users\\\\suraj\\\\anaconda3\\\\Library\\\\bin;C:\\\\Users\\\\suraj\\\\anaconda3\\\\Scripts;C:\\\\Users\\\\suraj\\\\miniconda3;C:\\\\Users\\\\suraj\\\\miniconda3\\\\Library\\\\mingw-w64\\\\bin;C:\\\\Users\\\\suraj\\\\miniconda3\\\\Library\\\\usr\\\\bin;C:\\\\Users\\\\suraj\\\\miniconda3\\\\Library\\\\bin;C:\\\\Users\\\\suraj\\\\miniconda3\\\\Scripts;C:\\\\Users\\\\suraj\\\\AppData\\\\Local\\\\Programs\\\\Python\\\\Python310\\\\Scripts\\\\;C:\\\\Users\\\\suraj\\\\AppData\\\\Local\\\\Programs\\\\Python\\\\Python310\\\\;C:\\\\Users\\\\suraj\\\\AppData\\\\Local\\\\Programs\\\\Microsoft VS Code\\\\bin', 'PATHEXT': '.COM;.EXE;.BAT;.CMD;.VBS;.VBE;.JS;.JSE;.WSF;.WSH;.MSC', 'PROCESSOR_ARCHITECTURE': 'AMD64', 'PROCESSOR_IDENTIFIER': 'AMD64 Family 25 Model 80 Stepping 0, AuthenticAMD', 'PROCESSOR_LEVEL': '25', 'PROCESSOR_REVISION': '5000', 'PROGRAMDATA': 'C:\\\\ProgramData', 'PROGRAMFILES': 'C:\\\\Program Files', 'PROGRAMFILES(X86)': 'C:\\\\Program Files (x86)', 'PROGRAMW6432': 'C:\\\\Program Files', 'PSMODULEPATH': 'C:\\\\Program Files\\\\WindowsPowerShell\\\\Modules;C:\\\\WINDOWS\\\\system32\\\\WindowsPowerShell\\\\v1.0\\\\Modules', 'PUBLIC': 'C:\\\\Users\\\\Public', 'SESSIONNAME': 'Console', 'SYSTEMDRIVE': 'C:', 'SYSTEMROOT': 'C:\\\\WINDOWS', 'TEMP': 'C:\\\\Users\\\\suraj\\\\AppData\\\\Local\\\\Temp', 'TMP': 'C:\\\\Users\\\\suraj\\\\AppData\\\\Local\\\\Temp', 'USERDOMAIN': 'ALEX', 'USERDOMAIN_ROAMINGPROFILE': 'ALEX', 'USERNAME': 'suraj', 'USERPROFILE': 'C:\\\\Users\\\\suraj', 'WINDIR': 'C:\\\\WINDOWS', 'CONDA_PREFIX': 'C:\\\\Users\\\\suraj\\\\anaconda3', 'PYDEVD_USE_FRAME_EVAL': 'NO', 'JPY_INTERRUPT_EVENT': '4024', 'IPY_INTERRUPT_EVENT': '4024', 'JPY_PARENT_PID': '3452', 'TERM': 'xterm-color', 'CLICOLOR': '1', 'PAGER': 'cat', 'GIT_PAGER': 'cat', 'MPLBACKEND': 'module://matplotlib_inline.backend_inline'})\n"
     ]
    }
   ],
   "source": [
    "## os\n",
    "import os\n",
    "\n",
    "print(os.getcwd())\n",
    "\n",
    "## os.chidr(\"ADDRESS\") - change directly\n",
    "print(os.name)\n",
    "print(os.environ)"
   ]
  },
  {
   "cell_type": "code",
   "execution_count": 92,
   "id": "1e158ec6",
   "metadata": {},
   "outputs": [
    {
     "name": "stdout",
     "output_type": "stream",
     "text": [
      "2022-06-15 12:33:48.778727\n"
     ]
    }
   ],
   "source": [
    "# DAtetime\n",
    "import datetime\n",
    "from datetime import datetime\n",
    "\n",
    "##print(datetime.time())\n",
    "print(datetime.now())"
   ]
  },
  {
   "cell_type": "code",
   "execution_count": 293,
   "id": "48982509",
   "metadata": {},
   "outputs": [
    {
     "name": "stdout",
     "output_type": "stream",
     "text": [
      "140\n"
     ]
    }
   ],
   "source": [
    "import random\n",
    "\n",
    "print(random.randrange(0,9999,20))"
   ]
  },
  {
   "cell_type": "code",
   "execution_count": null,
   "id": "ee8ecd17",
   "metadata": {},
   "outputs": [],
   "source": []
  }
 ],
 "metadata": {
  "kernelspec": {
   "display_name": "Python 3 (ipykernel)",
   "language": "python",
   "name": "python3"
  },
  "language_info": {
   "codemirror_mode": {
    "name": "ipython",
    "version": 3
   },
   "file_extension": ".py",
   "mimetype": "text/x-python",
   "name": "python",
   "nbconvert_exporter": "python",
   "pygments_lexer": "ipython3",
   "version": "3.9.12"
  }
 },
 "nbformat": 4,
 "nbformat_minor": 5
}
