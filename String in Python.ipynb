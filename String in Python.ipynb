{
 "cells": [
  {
   "cell_type": "markdown",
   "id": "cdd90ef1",
   "metadata": {},
   "source": [
    "# How to use String in python\n",
    "\n"
   ]
  },
  {
   "cell_type": "code",
   "execution_count": 3,
   "id": "6fe7d414",
   "metadata": {},
   "outputs": [
    {
     "name": "stdout",
     "output_type": "stream",
     "text": [
      "Hello World\n",
      "Hello World\n"
     ]
    }
   ],
   "source": [
    "# Single quote in string\n",
    "print('Hello World')\n",
    "\n",
    "# Double quote in string\n",
    "print(\"Hello World\")"
   ]
  },
  {
   "cell_type": "markdown",
   "id": "6a6b62e2",
   "metadata": {},
   "source": [
    "# Multiline String"
   ]
  },
  {
   "cell_type": "code",
   "execution_count": 5,
   "id": "353b2ffc",
   "metadata": {},
   "outputs": [
    {
     "name": "stdout",
     "output_type": "stream",
     "text": [
      "Python is booming in the Market,\n",
      "Python is smart launguage,\n",
      "Python is used in AI,Machine Learnin,Data Science\n"
     ]
    }
   ],
   "source": [
    "a = \"\"\"Python is booming in the Market,\n",
    "Python is smart launguage,\n",
    "Python is used in AI,Machine Learnin,Data Science\"\"\"\n",
    "print(a)"
   ]
  },
  {
   "cell_type": "markdown",
   "id": "3e30579d",
   "metadata": {},
   "source": [
    "# Update String"
   ]
  },
  {
   "cell_type": "code",
   "execution_count": 9,
   "id": "6c56e2d4",
   "metadata": {
    "scrolled": true
   },
   "outputs": [
    {
     "name": "stdout",
     "output_type": "stream",
     "text": [
      "Hello world!\n",
      "Update String :  Hello Python\n"
     ]
    }
   ],
   "source": [
    "a = \"Hello world!\"\n",
    "print(a)\n",
    "print(\"Update String : \" ,a[:6]+\"Python\")"
   ]
  },
  {
   "cell_type": "markdown",
   "id": "b2119568",
   "metadata": {},
   "source": [
    "# String slicing"
   ]
  },
  {
   "cell_type": "code",
   "execution_count": 20,
   "id": "670ab591",
   "metadata": {},
   "outputs": [
    {
     "name": "stdout",
     "output_type": "stream",
     "text": [
      "Index 1 :  H\n",
      "Index between 1 to 12 :  Hello Python\n",
      "Index till 6 :  Hello \n",
      "last value :  n\n"
     ]
    }
   ],
   "source": [
    "a = \"Hello Python\"\n",
    "# Access the value of index 1\n",
    "print(\"Index 1 : \" , a[0])\n",
    "\n",
    "#Access the value between index 1 to 6\n",
    "print(\"Index between 1 to 12 : \" , a[0:12])\n",
    "\n",
    "# Access the value till index 6\n",
    "print(\"Index till 6 : \" , a[:6])\n",
    "\n",
    "# Access the last value from string\n",
    "print(\"last value : \" , a[-1])"
   ]
  },
  {
   "cell_type": "markdown",
   "id": "bc5b160a",
   "metadata": {},
   "source": [
    "# String in-Built Methods"
   ]
  },
  {
   "cell_type": "code",
   "execution_count": 23,
   "id": "392dc4ab",
   "metadata": {},
   "outputs": [
    {
     "name": "stdout",
     "output_type": "stream",
     "text": [
      "Hello and wellcome alex for coding\n"
     ]
    }
   ],
   "source": [
    "# Capitaliza() : This method converts the first character is string\n",
    "a = \"hello and wellcome alex for coding\"\n",
    "x = a.capitalize()\n",
    "print(x)"
   ]
  },
  {
   "cell_type": "code",
   "execution_count": 26,
   "id": "31794f89",
   "metadata": {},
   "outputs": [
    {
     "name": "stdout",
     "output_type": "stream",
     "text": [
      "Hello and wellcome alex for coding\n"
     ]
    }
   ],
   "source": [
    "# Casefold()  : This method convert all capital letter into  small letter.\n",
    "\n",
    "a = \"HELLO AND WELCOME ALEX BROTHER\"\n",
    "X = a.casefold()\n",
    "print(x)"
   ]
  },
  {
   "cell_type": "code",
   "execution_count": 29,
   "id": "d3bfdd08",
   "metadata": {},
   "outputs": [
    {
     "name": "stdout",
     "output_type": "stream",
     "text": [
      "Python\n",
      "                      Python                      \n"
     ]
    }
   ],
   "source": [
    "# center() :  This is use to bring your into center\n",
    "\n",
    "a = \"Python\"\n",
    "print(a)\n",
    "\n",
    "x = a.center(50)\n",
    "print(x)"
   ]
  },
  {
   "cell_type": "code",
   "execution_count": 33,
   "id": "d1cee1e2",
   "metadata": {},
   "outputs": [
    {
     "name": "stdout",
     "output_type": "stream",
     "text": [
      "2\n"
     ]
    }
   ],
   "source": [
    "# count(): This method is use to count the repeated word in string\n",
    "\n",
    "a = \" I love Python, Python is smart language\"\n",
    "x = a.count(\"Python\")\n",
    "print(x)"
   ]
  },
  {
   "cell_type": "markdown",
   "id": "edd6059e",
   "metadata": {},
   "source": [
    "# How to compare string\n"
   ]
  },
  {
   "cell_type": "code",
   "execution_count": 35,
   "id": "366b6bc3",
   "metadata": {},
   "outputs": [
    {
     "name": "stdout",
     "output_type": "stream",
     "text": [
      "True\n"
     ]
    }
   ],
   "source": [
    "srt1 = \"suraj\"\n",
    "srt2 = \"suraj\"\n",
    "result = srt1 == srt2\n",
    "print(result)"
   ]
  },
  {
   "cell_type": "code",
   "execution_count": 36,
   "id": "97117654",
   "metadata": {},
   "outputs": [
    {
     "name": "stdout",
     "output_type": "stream",
     "text": [
      "False\n"
     ]
    }
   ],
   "source": [
    "srt1 = \"surajpatil\"\n",
    "srt2 = \"alexpatil\"\n",
    "result = srt1 ==srt2\n",
    "print(result)"
   ]
  },
  {
   "cell_type": "code",
   "execution_count": 1,
   "id": "6a65ef2c",
   "metadata": {},
   "outputs": [
    {
     "name": "stdout",
     "output_type": "stream",
     "text": [
      "True\n"
     ]
    }
   ],
   "source": [
    "srt1 = 'a'\n",
    "srt2 = 'b'\n",
    "srt3 = 'c'\n",
    "result = srt3>srt2\n",
    "print(result)"
   ]
  },
  {
   "cell_type": "code",
   "execution_count": 2,
   "id": "2acfac1c",
   "metadata": {},
   "outputs": [
    {
     "name": "stdout",
     "output_type": "stream",
     "text": [
      "suarj100\n",
      "100\n"
     ]
    }
   ],
   "source": [
    "a = int(input(\"suarj\"))\n",
    "print(a)"
   ]
  }
 ],
 "metadata": {
  "kernelspec": {
   "display_name": "Python 3 (ipykernel)",
   "language": "python",
   "name": "python3"
  },
  "language_info": {
   "codemirror_mode": {
    "name": "ipython",
    "version": 3
   },
   "file_extension": ".py",
   "mimetype": "text/x-python",
   "name": "python",
   "nbconvert_exporter": "python",
   "pygments_lexer": "ipython3",
   "version": "3.9.12"
  }
 },
 "nbformat": 4,
 "nbformat_minor": 5
}
