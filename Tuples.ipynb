{
 "cells": [
  {
   "cell_type": "markdown",
   "id": "36a3eecd",
   "metadata": {},
   "source": [
    "# Creating tuple"
   ]
  },
  {
   "cell_type": "code",
   "execution_count": 2,
   "id": "29038fb9",
   "metadata": {},
   "outputs": [
    {
     "name": "stdout",
     "output_type": "stream",
     "text": [
      "Current Tuple  :  ('Apple', 'Orange', 'Cherry', 1, 2, 3, 4, 5, 6, 7, 10.3, 10, 5, 12.5, 5, 4)\n"
     ]
    }
   ],
   "source": [
    "# Creating a TUPLE\n",
    "t1 = (\"Apple\",\"Orange\",\"Cherry\",1,2,3,4,5,6,7,10.3,10,5,12.5,5,4)\n",
    "print(\"Current Tuple  : \",t1)"
   ]
  },
  {
   "cell_type": "markdown",
   "id": "dd94db3a",
   "metadata": {},
   "source": [
    "#  How to check a lenght of tuple"
   ]
  },
  {
   "cell_type": "code",
   "execution_count": 8,
   "id": "f8dd84f6",
   "metadata": {},
   "outputs": [
    {
     "name": "stdout",
     "output_type": "stream",
     "text": [
      "Size :  7\n"
     ]
    }
   ],
   "source": [
    "t2 = (1,2,3,4,5,6,7)\n",
    "# Checking the lenght of Tuple \n",
    "print(\"Size : \",len(t2))"
   ]
  },
  {
   "cell_type": "markdown",
   "id": "99a273e2",
   "metadata": {},
   "source": [
    "# Indexing / Sciling"
   ]
  },
  {
   "cell_type": "code",
   "execution_count": 16,
   "id": "5ac5fc9b",
   "metadata": {},
   "outputs": [
    {
     "name": "stdout",
     "output_type": "stream",
     "text": [
      "Current Tuple :   ('Apple', 'Orange', 'Cherry', 1, 2, 3, 4, 5, 6, 7, 10.3, 10, 5, 12.5, 5, 4)\n",
      "Index 1 value :  Orange\n",
      "Index between 1 to 6 :  ('Orange', 'Cherry', 1, 2, 3)\n",
      "Last value :  4\n",
      "vaule till index  :  ('Apple', 'Orange', 'Cherry', 1, 2, 3)\n"
     ]
    }
   ],
   "source": [
    "t1 = (\"Apple\",\"Orange\",\"Cherry\",1,2,3,4,5,6,7,10.3,10,5,12.5,5,4)\n",
    "print(\"Current Tuple :  \", t1)\n",
    "\n",
    "#accessing the value by using index\n",
    "print(\"Index 1 value : \",t1[1])\n",
    "\n",
    "#accessing the value btween 1 to 6 index\n",
    "print(\"Index between 1 to 6 : \",t1[1:6])\n",
    "\n",
    "#accessing the value from last into tuple index\n",
    "print(\"Last value : \",t1[-1])\n",
    "\n",
    "#accessing the value till index 6\n",
    "print(\"vaule till index  : \",t1[ :6])"
   ]
  },
  {
   "cell_type": "markdown",
   "id": "cb8da3b6",
   "metadata": {},
   "source": [
    "# Convert Tuple Into List"
   ]
  },
  {
   "cell_type": "code",
   "execution_count": 21,
   "id": "7a5950fe",
   "metadata": {},
   "outputs": [
    {
     "name": "stdout",
     "output_type": "stream",
     "text": [
      "Curremt Tuple  :  ('Apple', 'Orange', 'Cherry', 1, 2, 3, 4, 5, 6, 7, 10.3, 10, 5, 12.5, 5, 4)\n",
      "After Convert  :  ['Apple', 'Orange', 'Cherry', 1, 2, 3, 4, 5, 6, 7, 10.3, 10, 5, 12.5, 5, 4]\n"
     ]
    }
   ],
   "source": [
    "t1 = (\"Apple\",\"Orange\",\"Cherry\",1,2,3,4,5,6,7,10.3,10,5,12.5,5,4)\n",
    "print(\"Curremt Tuple  : \",t1) # Before change\n",
    "\n",
    "x = list(t1)\n",
    "print(\"After Convert  : \",x)\n",
    "\n"
   ]
  },
  {
   "cell_type": "markdown",
   "id": "89e57704",
   "metadata": {},
   "source": [
    "# Tuple Constructor"
   ]
  },
  {
   "cell_type": "code",
   "execution_count": 24,
   "id": "458d6c21",
   "metadata": {},
   "outputs": [
    {
     "name": "stdout",
     "output_type": "stream",
     "text": [
      "('apple', 'mango', 'cherry')\n"
     ]
    }
   ],
   "source": [
    "t3 = tuple((\"apple\",\"mango\",\"cherry\"))\n",
    "print(t3)\n",
    "\n"
   ]
  },
  {
   "cell_type": "markdown",
   "id": "e6ce9618",
   "metadata": {},
   "source": [
    "# Add item but after coverting tuple into list "
   ]
  },
  {
   "cell_type": "code",
   "execution_count": null,
   "id": "7843db80",
   "metadata": {},
   "outputs": [],
   "source": [
    "t4 = (\"apple\",\"orange\",\"cherry\",\"mango\")\n",
    "print(\"Current Tuple  : \",t4) # Before Convert\n",
    "\n",
    "print(type(t4))\n",
    "\n",
    "# Convert tuple into list \n",
    "\n",
    "x = list(t4)\n",
    "print(x) # After convert\n",
    "print(type(x))\n",
    "\n",
    "\n",
    "#  Add item into list\n",
    "x[1] = \"kiwi\"\n",
    "print(\"Updated list : \",x)\n",
    "\n",
    "# Covert list into tuple again\n",
    "y = tuple(x)\n",
    "print(\"Updated Tuple : \",y)\n",
    "\n"
   ]
  },
  {
   "cell_type": "markdown",
   "id": "5e6ff1a4",
   "metadata": {},
   "source": [
    "# Loop With Tuple"
   ]
  },
  {
   "cell_type": "code",
   "execution_count": 33,
   "id": "fab1443e",
   "metadata": {},
   "outputs": [
    {
     "name": "stdout",
     "output_type": "stream",
     "text": [
      "Apple\n",
      "Mango\n",
      "Orange\n",
      "Kiwi\n"
     ]
    }
   ],
   "source": [
    "# for loop with tuple\n",
    "t5 = (\"Apple\",\"Mango\",\"Orange\",\"Kiwi\")\n",
    "for i in t5:\n",
    "    print(i)"
   ]
  },
  {
   "cell_type": "code",
   "execution_count": 39,
   "id": "16134280",
   "metadata": {},
   "outputs": [
    {
     "name": "stdout",
     "output_type": "stream",
     "text": [
      "Apple\n",
      "Mango\n",
      "Orange\n",
      "Kiwi\n",
      "Loop Finish\n"
     ]
    }
   ],
   "source": [
    "# While Loop With Tuple\n",
    "t5 = (\"Apple\",\"Mango\",\"Orange\",\"Kiwi\")\n",
    "i = 0\n",
    "\n",
    "while i<len(t5):\n",
    "    print(t5[i])\n",
    "    i=i+1\n",
    "else:\n",
    "    print(\"Loop Finish\")\n"
   ]
  },
  {
   "cell_type": "markdown",
   "id": "298ca962",
   "metadata": {},
   "source": [
    "# How to compare tuples"
   ]
  },
  {
   "cell_type": "code",
   "execution_count": 45,
   "id": "95227909",
   "metadata": {},
   "outputs": [
    {
     "name": "stdout",
     "output_type": "stream",
     "text": [
      "False\n",
      "True\n",
      "False\n"
     ]
    }
   ],
   "source": [
    "tuple1 = (1,2,3)\n",
    "tuple2 = (1,2,4)\n",
    "print(tuple1 == tuple2)\n",
    "\n",
    "print(tuple1<tuple2)\n",
    "\n",
    "print(tuple1>tuple2)"
   ]
  }
 ],
 "metadata": {
  "kernelspec": {
   "display_name": "Python 3 (ipykernel)",
   "language": "python",
   "name": "python3"
  },
  "language_info": {
   "codemirror_mode": {
    "name": "ipython",
    "version": 3
   },
   "file_extension": ".py",
   "mimetype": "text/x-python",
   "name": "python",
   "nbconvert_exporter": "python",
   "pygments_lexer": "ipython3",
   "version": "3.9.12"
  }
 },
 "nbformat": 4,
 "nbformat_minor": 5
}
